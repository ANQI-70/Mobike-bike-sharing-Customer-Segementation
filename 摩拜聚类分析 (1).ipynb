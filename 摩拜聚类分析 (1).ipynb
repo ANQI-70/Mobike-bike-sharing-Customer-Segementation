{
 "cells": [
  {
   "cell_type": "markdown",
   "metadata": {},
   "source": [
    "# 1.业务背景"
   ]
  },
  {
   "cell_type": "markdown",
   "metadata": {},
   "source": [
    "摩拜单车，英文名mobike，是由胡玮炜创办的北京摩拜科技有限公司研发的互联网短途出行解决方案，是无桩借还车模式的智能硬件。\n",
    "人们通过智能手机就能快速租用和归还一辆摩拜单车，用可负担的价格来完成一次几公里的市内骑行。\n",
    "由于一公里的出行是一个高频的需求场景，所以mobike单车累计了大量的用户基本信息以及骑行的数据，\n",
    "通过这些数据，能够帮助企业更好识别自己的客群画像和他们的骑行偏好。"
   ]
  },
  {
   "cell_type": "markdown",
   "metadata": {},
   "source": [
    "- 使用Python建立聚类分析模型\n",
    "- 对于聚类分析模型得出的分群特征进行解读"
   ]
  },
  {
   "cell_type": "markdown",
   "metadata": {},
   "source": [
    "# 2.数据导入"
   ]
  },
  {
   "cell_type": "code",
   "execution_count": 1,
   "metadata": {},
   "outputs": [],
   "source": [
    "#调库\n",
    "import pandas as pd\n",
    "import numpy as np\n",
    "import matplotlib.pyplot as plt\n",
    "import seaborn as sns\n",
    "%matplotlib inline"
   ]
  },
  {
   "cell_type": "code",
   "execution_count": 2,
   "metadata": {},
   "outputs": [],
   "source": [
    "#导入数据\n",
    "mb = pd.read_csv('E:\\小灶数据分析课程\\第八周\\week4.mobike.csv')"
   ]
  },
  {
   "cell_type": "code",
   "execution_count": 3,
   "metadata": {},
   "outputs": [
    {
     "name": "stdout",
     "output_type": "stream",
     "text": [
      "<class 'pandas.core.frame.DataFrame'>\n",
      "RangeIndex: 6427 entries, 0 to 6426\n",
      "Data columns (total 15 columns):\n",
      " #   Column             Non-Null Count  Dtype  \n",
      "---  ------             --------------  -----  \n",
      " 0   Unnamed: 0         6427 non-null   int64  \n",
      " 1   user_id            6427 non-null   int64  \n",
      " 2   start_time         6427 non-null   object \n",
      " 3   end_time           6427 non-null   object \n",
      " 4   timeduration       6427 non-null   int64  \n",
      " 5   bikeid             6427 non-null   int64  \n",
      " 6   tripduration       6427 non-null   int64  \n",
      " 7   from_station_id    6427 non-null   int64  \n",
      " 8   from_station_name  6427 non-null   object \n",
      " 9   to_station_id      6427 non-null   int64  \n",
      " 10  to_station_name    6427 non-null   object \n",
      " 11  usertype           6427 non-null   object \n",
      " 12  gender             5938 non-null   object \n",
      " 13  birthyear          5956 non-null   float64\n",
      " 14  age                6427 non-null   object \n",
      "dtypes: float64(1), int64(7), object(7)\n",
      "memory usage: 753.3+ KB\n"
     ]
    }
   ],
   "source": [
    "#数据类型以及是否有缺失值查看\n",
    "mb.info()"
   ]
  },
  {
   "cell_type": "markdown",
   "metadata": {},
   "source": [
    "- 多了一列Unnamed: 0，需要用describe查看是否需要删除\n",
    "- user_id应该是object类型，不是数值型数据\n",
    "- start_time和end_time数据类型应为日期timedate64，且加上timeduration有冗余，可删除start or end_time\n",
    "- from_station_id和from_station_name都是代表起始点，to_station_id和to_station_name都是代表终点，冗余，应各删除一项（这里考虑删除地名）\n",
    "- gender有缺失值，视情况选择是填充还是直接删除\n",
    "- birthyear有缺失值，切数据类型为浮点型，但出生年份应为整数int类型；但age和birthyear可互相转换，因此可直接删除birthyear，但age应该是数值型数据，这里数据类型错误"
   ]
  },
  {
   "cell_type": "code",
   "execution_count": 4,
   "metadata": {},
   "outputs": [
    {
     "data": {
      "text/html": [
       "<div>\n",
       "<style scoped>\n",
       "    .dataframe tbody tr th:only-of-type {\n",
       "        vertical-align: middle;\n",
       "    }\n",
       "\n",
       "    .dataframe tbody tr th {\n",
       "        vertical-align: top;\n",
       "    }\n",
       "\n",
       "    .dataframe thead th {\n",
       "        text-align: right;\n",
       "    }\n",
       "</style>\n",
       "<table border=\"1\" class=\"dataframe\">\n",
       "  <thead>\n",
       "    <tr style=\"text-align: right;\">\n",
       "      <th></th>\n",
       "      <th>Unnamed: 0</th>\n",
       "      <th>user_id</th>\n",
       "      <th>start_time</th>\n",
       "      <th>end_time</th>\n",
       "      <th>timeduration</th>\n",
       "      <th>bikeid</th>\n",
       "      <th>tripduration</th>\n",
       "      <th>from_station_id</th>\n",
       "      <th>from_station_name</th>\n",
       "      <th>to_station_id</th>\n",
       "      <th>to_station_name</th>\n",
       "      <th>usertype</th>\n",
       "      <th>gender</th>\n",
       "      <th>birthyear</th>\n",
       "      <th>age</th>\n",
       "    </tr>\n",
       "  </thead>\n",
       "  <tbody>\n",
       "    <tr>\n",
       "      <th>0</th>\n",
       "      <td>439283</td>\n",
       "      <td>21499218</td>\n",
       "      <td>11/14/2018 7:37</td>\n",
       "      <td>11/14/2018 7:44</td>\n",
       "      <td>7</td>\n",
       "      <td>2631</td>\n",
       "      <td>436</td>\n",
       "      <td>319</td>\n",
       "      <td>Greenview Ave &amp; Diversey Pkwy</td>\n",
       "      <td>67</td>\n",
       "      <td>Sheffield Ave &amp; Fullerton Ave</td>\n",
       "      <td>Subscriber</td>\n",
       "      <td>Male</td>\n",
       "      <td>1982.0</td>\n",
       "      <td>37</td>\n",
       "    </tr>\n",
       "    <tr>\n",
       "      <th>1</th>\n",
       "      <td>603317</td>\n",
       "      <td>21694389</td>\n",
       "      <td>12/18/2018 19:02</td>\n",
       "      <td>12/18/2018 19:10</td>\n",
       "      <td>7</td>\n",
       "      <td>1565</td>\n",
       "      <td>445</td>\n",
       "      <td>164</td>\n",
       "      <td>Franklin St &amp; Lake St</td>\n",
       "      <td>195</td>\n",
       "      <td>Columbus Dr &amp; Randolph St</td>\n",
       "      <td>Subscriber</td>\n",
       "      <td>Male</td>\n",
       "      <td>1988.0</td>\n",
       "      <td>31</td>\n",
       "    </tr>\n",
       "    <tr>\n",
       "      <th>2</th>\n",
       "      <td>109957</td>\n",
       "      <td>21110722</td>\n",
       "      <td>10/9/2018 12:37</td>\n",
       "      <td>10/9/2018 12:55</td>\n",
       "      <td>18</td>\n",
       "      <td>2231</td>\n",
       "      <td>1090</td>\n",
       "      <td>163</td>\n",
       "      <td>Damen Ave &amp; Clybourn Ave</td>\n",
       "      <td>69</td>\n",
       "      <td>Damen Ave &amp; Pierce Ave</td>\n",
       "      <td>Customer</td>\n",
       "      <td>Male</td>\n",
       "      <td>1989.0</td>\n",
       "      <td>30</td>\n",
       "    </tr>\n",
       "    <tr>\n",
       "      <th>3</th>\n",
       "      <td>428082</td>\n",
       "      <td>21485409</td>\n",
       "      <td>11/12/2018 12:30</td>\n",
       "      <td>11/12/2018 12:40</td>\n",
       "      <td>9</td>\n",
       "      <td>4226</td>\n",
       "      <td>581</td>\n",
       "      <td>226</td>\n",
       "      <td>Racine Ave &amp; Belmont Ave</td>\n",
       "      <td>308</td>\n",
       "      <td>Seeley Ave &amp; Roscoe St</td>\n",
       "      <td>Subscriber</td>\n",
       "      <td>Female</td>\n",
       "      <td>1989.0</td>\n",
       "      <td>30</td>\n",
       "    </tr>\n",
       "    <tr>\n",
       "      <th>4</th>\n",
       "      <td>395437</td>\n",
       "      <td>21445994</td>\n",
       "      <td>11/7/2018 7:29</td>\n",
       "      <td>11/7/2018 7:35</td>\n",
       "      <td>6</td>\n",
       "      <td>3475</td>\n",
       "      <td>390</td>\n",
       "      <td>77</td>\n",
       "      <td>Clinton St &amp; Madison St</td>\n",
       "      <td>621</td>\n",
       "      <td>Aberdeen St &amp; Randolph St</td>\n",
       "      <td>Subscriber</td>\n",
       "      <td>Male</td>\n",
       "      <td>1979.0</td>\n",
       "      <td>40</td>\n",
       "    </tr>\n",
       "    <tr>\n",
       "      <th>5</th>\n",
       "      <td>73632</td>\n",
       "      <td>21068843</td>\n",
       "      <td>10/6/2018 12:04</td>\n",
       "      <td>10/6/2018 12:17</td>\n",
       "      <td>12</td>\n",
       "      <td>2173</td>\n",
       "      <td>772</td>\n",
       "      <td>321</td>\n",
       "      <td>Wabash Ave &amp; 9th St</td>\n",
       "      <td>134</td>\n",
       "      <td>Peoria St &amp; Jackson Blvd</td>\n",
       "      <td>Subscriber</td>\n",
       "      <td>Male</td>\n",
       "      <td>1994.0</td>\n",
       "      <td>25</td>\n",
       "    </tr>\n",
       "    <tr>\n",
       "      <th>6</th>\n",
       "      <td>317778</td>\n",
       "      <td>21354901</td>\n",
       "      <td>10/29/2018 17:26</td>\n",
       "      <td>10/29/2018 17:35</td>\n",
       "      <td>8</td>\n",
       "      <td>1735</td>\n",
       "      <td>505</td>\n",
       "      <td>90</td>\n",
       "      <td>Millennium Park</td>\n",
       "      <td>255</td>\n",
       "      <td>Indiana Ave &amp; Roosevelt Rd</td>\n",
       "      <td>Subscriber</td>\n",
       "      <td>Female</td>\n",
       "      <td>1971.0</td>\n",
       "      <td>48</td>\n",
       "    </tr>\n",
       "    <tr>\n",
       "      <th>7</th>\n",
       "      <td>371796</td>\n",
       "      <td>21417733</td>\n",
       "      <td>11/3/2018 16:32</td>\n",
       "      <td>11/3/2018 16:54</td>\n",
       "      <td>22</td>\n",
       "      <td>983</td>\n",
       "      <td>1347</td>\n",
       "      <td>31</td>\n",
       "      <td>Franklin St &amp; Chicago Ave</td>\n",
       "      <td>315</td>\n",
       "      <td>Elston Ave &amp; Wabansia Ave</td>\n",
       "      <td>Customer</td>\n",
       "      <td>NaN</td>\n",
       "      <td>NaN</td>\n",
       "      <td></td>\n",
       "    </tr>\n",
       "    <tr>\n",
       "      <th>8</th>\n",
       "      <td>333577</td>\n",
       "      <td>21373047</td>\n",
       "      <td>10/31/2018 6:15</td>\n",
       "      <td>10/31/2018 6:29</td>\n",
       "      <td>13</td>\n",
       "      <td>2178</td>\n",
       "      <td>819</td>\n",
       "      <td>77</td>\n",
       "      <td>Clinton St &amp; Madison St</td>\n",
       "      <td>331</td>\n",
       "      <td>Halsted St &amp; Clybourn Ave (*)</td>\n",
       "      <td>Subscriber</td>\n",
       "      <td>Male</td>\n",
       "      <td>1991.0</td>\n",
       "      <td>28</td>\n",
       "    </tr>\n",
       "    <tr>\n",
       "      <th>9</th>\n",
       "      <td>261523</td>\n",
       "      <td>21288683</td>\n",
       "      <td>10/23/2018 18:11</td>\n",
       "      <td>10/23/2018 18:14</td>\n",
       "      <td>3</td>\n",
       "      <td>3888</td>\n",
       "      <td>225</td>\n",
       "      <td>74</td>\n",
       "      <td>Kingsbury St &amp; Erie St</td>\n",
       "      <td>84</td>\n",
       "      <td>Milwaukee Ave &amp; Grand Ave</td>\n",
       "      <td>Subscriber</td>\n",
       "      <td>Male</td>\n",
       "      <td>1989.0</td>\n",
       "      <td>30</td>\n",
       "    </tr>\n",
       "  </tbody>\n",
       "</table>\n",
       "</div>"
      ],
      "text/plain": [
       "   Unnamed: 0   user_id        start_time          end_time  timeduration  \\\n",
       "0      439283  21499218   11/14/2018 7:37   11/14/2018 7:44             7   \n",
       "1      603317  21694389  12/18/2018 19:02  12/18/2018 19:10             7   \n",
       "2      109957  21110722   10/9/2018 12:37   10/9/2018 12:55            18   \n",
       "3      428082  21485409  11/12/2018 12:30  11/12/2018 12:40             9   \n",
       "4      395437  21445994    11/7/2018 7:29    11/7/2018 7:35             6   \n",
       "5       73632  21068843   10/6/2018 12:04   10/6/2018 12:17            12   \n",
       "6      317778  21354901  10/29/2018 17:26  10/29/2018 17:35             8   \n",
       "7      371796  21417733   11/3/2018 16:32   11/3/2018 16:54            22   \n",
       "8      333577  21373047   10/31/2018 6:15   10/31/2018 6:29            13   \n",
       "9      261523  21288683  10/23/2018 18:11  10/23/2018 18:14             3   \n",
       "\n",
       "   bikeid  tripduration  from_station_id              from_station_name  \\\n",
       "0    2631           436              319  Greenview Ave & Diversey Pkwy   \n",
       "1    1565           445              164          Franklin St & Lake St   \n",
       "2    2231          1090              163       Damen Ave & Clybourn Ave   \n",
       "3    4226           581              226       Racine Ave & Belmont Ave   \n",
       "4    3475           390               77        Clinton St & Madison St   \n",
       "5    2173           772              321            Wabash Ave & 9th St   \n",
       "6    1735           505               90                Millennium Park   \n",
       "7     983          1347               31      Franklin St & Chicago Ave   \n",
       "8    2178           819               77        Clinton St & Madison St   \n",
       "9    3888           225               74         Kingsbury St & Erie St   \n",
       "\n",
       "   to_station_id                to_station_name    usertype  gender  \\\n",
       "0             67  Sheffield Ave & Fullerton Ave  Subscriber    Male   \n",
       "1            195      Columbus Dr & Randolph St  Subscriber    Male   \n",
       "2             69         Damen Ave & Pierce Ave    Customer    Male   \n",
       "3            308         Seeley Ave & Roscoe St  Subscriber  Female   \n",
       "4            621      Aberdeen St & Randolph St  Subscriber    Male   \n",
       "5            134       Peoria St & Jackson Blvd  Subscriber    Male   \n",
       "6            255     Indiana Ave & Roosevelt Rd  Subscriber  Female   \n",
       "7            315      Elston Ave & Wabansia Ave    Customer     NaN   \n",
       "8            331  Halsted St & Clybourn Ave (*)  Subscriber    Male   \n",
       "9             84      Milwaukee Ave & Grand Ave  Subscriber    Male   \n",
       "\n",
       "   birthyear age  \n",
       "0     1982.0  37  \n",
       "1     1988.0  31  \n",
       "2     1989.0  30  \n",
       "3     1989.0  30  \n",
       "4     1979.0  40  \n",
       "5     1994.0  25  \n",
       "6     1971.0  48  \n",
       "7        NaN      \n",
       "8     1991.0  28  \n",
       "9     1989.0  30  "
      ]
     },
     "execution_count": 4,
     "metadata": {},
     "output_type": "execute_result"
    }
   ],
   "source": [
    "#数据概览\n",
    "mb.head(10)"
   ]
  },
  {
   "cell_type": "code",
   "execution_count": 5,
   "metadata": {},
   "outputs": [
    {
     "data": {
      "text/html": [
       "<div>\n",
       "<style scoped>\n",
       "    .dataframe tbody tr th:only-of-type {\n",
       "        vertical-align: middle;\n",
       "    }\n",
       "\n",
       "    .dataframe tbody tr th {\n",
       "        vertical-align: top;\n",
       "    }\n",
       "\n",
       "    .dataframe thead th {\n",
       "        text-align: right;\n",
       "    }\n",
       "</style>\n",
       "<table border=\"1\" class=\"dataframe\">\n",
       "  <thead>\n",
       "    <tr style=\"text-align: right;\">\n",
       "      <th></th>\n",
       "      <th>user_id</th>\n",
       "      <th>start_time</th>\n",
       "      <th>end_time</th>\n",
       "      <th>timeduration</th>\n",
       "      <th>bikeid</th>\n",
       "      <th>tripduration</th>\n",
       "      <th>from_station_id</th>\n",
       "      <th>from_station_name</th>\n",
       "      <th>to_station_id</th>\n",
       "      <th>to_station_name</th>\n",
       "      <th>usertype</th>\n",
       "      <th>gender</th>\n",
       "      <th>birthyear</th>\n",
       "      <th>age</th>\n",
       "    </tr>\n",
       "  </thead>\n",
       "  <tbody>\n",
       "    <tr>\n",
       "      <th>439283</th>\n",
       "      <td>21499218</td>\n",
       "      <td>11/14/2018 7:37</td>\n",
       "      <td>11/14/2018 7:44</td>\n",
       "      <td>7</td>\n",
       "      <td>2631</td>\n",
       "      <td>436</td>\n",
       "      <td>319</td>\n",
       "      <td>Greenview Ave &amp; Diversey Pkwy</td>\n",
       "      <td>67</td>\n",
       "      <td>Sheffield Ave &amp; Fullerton Ave</td>\n",
       "      <td>Subscriber</td>\n",
       "      <td>Male</td>\n",
       "      <td>1982.0</td>\n",
       "      <td>37</td>\n",
       "    </tr>\n",
       "    <tr>\n",
       "      <th>603317</th>\n",
       "      <td>21694389</td>\n",
       "      <td>12/18/2018 19:02</td>\n",
       "      <td>12/18/2018 19:10</td>\n",
       "      <td>7</td>\n",
       "      <td>1565</td>\n",
       "      <td>445</td>\n",
       "      <td>164</td>\n",
       "      <td>Franklin St &amp; Lake St</td>\n",
       "      <td>195</td>\n",
       "      <td>Columbus Dr &amp; Randolph St</td>\n",
       "      <td>Subscriber</td>\n",
       "      <td>Male</td>\n",
       "      <td>1988.0</td>\n",
       "      <td>31</td>\n",
       "    </tr>\n",
       "    <tr>\n",
       "      <th>109957</th>\n",
       "      <td>21110722</td>\n",
       "      <td>10/9/2018 12:37</td>\n",
       "      <td>10/9/2018 12:55</td>\n",
       "      <td>18</td>\n",
       "      <td>2231</td>\n",
       "      <td>1090</td>\n",
       "      <td>163</td>\n",
       "      <td>Damen Ave &amp; Clybourn Ave</td>\n",
       "      <td>69</td>\n",
       "      <td>Damen Ave &amp; Pierce Ave</td>\n",
       "      <td>Customer</td>\n",
       "      <td>Male</td>\n",
       "      <td>1989.0</td>\n",
       "      <td>30</td>\n",
       "    </tr>\n",
       "    <tr>\n",
       "      <th>428082</th>\n",
       "      <td>21485409</td>\n",
       "      <td>11/12/2018 12:30</td>\n",
       "      <td>11/12/2018 12:40</td>\n",
       "      <td>9</td>\n",
       "      <td>4226</td>\n",
       "      <td>581</td>\n",
       "      <td>226</td>\n",
       "      <td>Racine Ave &amp; Belmont Ave</td>\n",
       "      <td>308</td>\n",
       "      <td>Seeley Ave &amp; Roscoe St</td>\n",
       "      <td>Subscriber</td>\n",
       "      <td>Female</td>\n",
       "      <td>1989.0</td>\n",
       "      <td>30</td>\n",
       "    </tr>\n",
       "    <tr>\n",
       "      <th>395437</th>\n",
       "      <td>21445994</td>\n",
       "      <td>11/7/2018 7:29</td>\n",
       "      <td>11/7/2018 7:35</td>\n",
       "      <td>6</td>\n",
       "      <td>3475</td>\n",
       "      <td>390</td>\n",
       "      <td>77</td>\n",
       "      <td>Clinton St &amp; Madison St</td>\n",
       "      <td>621</td>\n",
       "      <td>Aberdeen St &amp; Randolph St</td>\n",
       "      <td>Subscriber</td>\n",
       "      <td>Male</td>\n",
       "      <td>1979.0</td>\n",
       "      <td>40</td>\n",
       "    </tr>\n",
       "  </tbody>\n",
       "</table>\n",
       "</div>"
      ],
      "text/plain": [
       "         user_id        start_time          end_time  timeduration  bikeid  \\\n",
       "439283  21499218   11/14/2018 7:37   11/14/2018 7:44             7    2631   \n",
       "603317  21694389  12/18/2018 19:02  12/18/2018 19:10             7    1565   \n",
       "109957  21110722   10/9/2018 12:37   10/9/2018 12:55            18    2231   \n",
       "428082  21485409  11/12/2018 12:30  11/12/2018 12:40             9    4226   \n",
       "395437  21445994    11/7/2018 7:29    11/7/2018 7:35             6    3475   \n",
       "\n",
       "        tripduration  from_station_id              from_station_name  \\\n",
       "439283           436              319  Greenview Ave & Diversey Pkwy   \n",
       "603317           445              164          Franklin St & Lake St   \n",
       "109957          1090              163       Damen Ave & Clybourn Ave   \n",
       "428082           581              226       Racine Ave & Belmont Ave   \n",
       "395437           390               77        Clinton St & Madison St   \n",
       "\n",
       "        to_station_id                to_station_name    usertype  gender  \\\n",
       "439283             67  Sheffield Ave & Fullerton Ave  Subscriber    Male   \n",
       "603317            195      Columbus Dr & Randolph St  Subscriber    Male   \n",
       "109957             69         Damen Ave & Pierce Ave    Customer    Male   \n",
       "428082            308         Seeley Ave & Roscoe St  Subscriber  Female   \n",
       "395437            621      Aberdeen St & Randolph St  Subscriber    Male   \n",
       "\n",
       "        birthyear age  \n",
       "439283     1982.0  37  \n",
       "603317     1988.0  31  \n",
       "109957     1989.0  30  \n",
       "428082     1989.0  30  \n",
       "395437     1979.0  40  "
      ]
     },
     "execution_count": 5,
     "metadata": {},
     "output_type": "execute_result"
    }
   ],
   "source": [
    "#Unnamed: 0是每一行数据对应的行为编码，可以作为索引\n",
    "mb = pd.read_csv('E:\\小灶数据分析课程\\第八周\\week4.mobike.csv',index_col=0)\n",
    "mb.head()"
   ]
  },
  {
   "cell_type": "markdown",
   "metadata": {},
   "source": [
    "# 3.数据处理"
   ]
  },
  {
   "cell_type": "markdown",
   "metadata": {},
   "source": [
    "## 3.1数值型数据处理"
   ]
  },
  {
   "cell_type": "code",
   "execution_count": 6,
   "metadata": {},
   "outputs": [
    {
     "data": {
      "text/html": [
       "<div>\n",
       "<style scoped>\n",
       "    .dataframe tbody tr th:only-of-type {\n",
       "        vertical-align: middle;\n",
       "    }\n",
       "\n",
       "    .dataframe tbody tr th {\n",
       "        vertical-align: top;\n",
       "    }\n",
       "\n",
       "    .dataframe thead th {\n",
       "        text-align: right;\n",
       "    }\n",
       "</style>\n",
       "<table border=\"1\" class=\"dataframe\">\n",
       "  <thead>\n",
       "    <tr style=\"text-align: right;\">\n",
       "      <th></th>\n",
       "      <th>user_id</th>\n",
       "      <th>timeduration</th>\n",
       "      <th>bikeid</th>\n",
       "      <th>tripduration</th>\n",
       "      <th>from_station_id</th>\n",
       "      <th>to_station_id</th>\n",
       "      <th>birthyear</th>\n",
       "    </tr>\n",
       "  </thead>\n",
       "  <tbody>\n",
       "    <tr>\n",
       "      <th>count</th>\n",
       "      <td>6.427000e+03</td>\n",
       "      <td>6427.000000</td>\n",
       "      <td>6427.000000</td>\n",
       "      <td>6.427000e+03</td>\n",
       "      <td>6427.000000</td>\n",
       "      <td>6427.000000</td>\n",
       "      <td>5956.000000</td>\n",
       "    </tr>\n",
       "    <tr>\n",
       "      <th>mean</th>\n",
       "      <td>2.135519e+07</td>\n",
       "      <td>11.778902</td>\n",
       "      <td>3491.637934</td>\n",
       "      <td>1.060471e+03</td>\n",
       "      <td>195.038432</td>\n",
       "      <td>198.502567</td>\n",
       "      <td>1982.488583</td>\n",
       "    </tr>\n",
       "    <tr>\n",
       "      <th>std</th>\n",
       "      <td>2.181294e+05</td>\n",
       "      <td>9.692236</td>\n",
       "      <td>1912.171846</td>\n",
       "      <td>1.456811e+04</td>\n",
       "      <td>148.170025</td>\n",
       "      <td>148.939873</td>\n",
       "      <td>11.147859</td>\n",
       "    </tr>\n",
       "    <tr>\n",
       "      <th>min</th>\n",
       "      <td>2.098358e+07</td>\n",
       "      <td>0.000000</td>\n",
       "      <td>2.000000</td>\n",
       "      <td>6.100000e+01</td>\n",
       "      <td>2.000000</td>\n",
       "      <td>2.000000</td>\n",
       "      <td>1906.000000</td>\n",
       "    </tr>\n",
       "    <tr>\n",
       "      <th>25%</th>\n",
       "      <td>2.116805e+07</td>\n",
       "      <td>5.000000</td>\n",
       "      <td>1852.000000</td>\n",
       "      <td>3.490000e+02</td>\n",
       "      <td>77.000000</td>\n",
       "      <td>80.000000</td>\n",
       "      <td>1977.000000</td>\n",
       "    </tr>\n",
       "    <tr>\n",
       "      <th>50%</th>\n",
       "      <td>2.135114e+07</td>\n",
       "      <td>9.000000</td>\n",
       "      <td>3618.000000</td>\n",
       "      <td>5.590000e+02</td>\n",
       "      <td>168.000000</td>\n",
       "      <td>172.000000</td>\n",
       "      <td>1986.000000</td>\n",
       "    </tr>\n",
       "    <tr>\n",
       "      <th>75%</th>\n",
       "      <td>2.154376e+07</td>\n",
       "      <td>15.000000</td>\n",
       "      <td>5179.500000</td>\n",
       "      <td>9.320000e+02</td>\n",
       "      <td>287.000000</td>\n",
       "      <td>287.000000</td>\n",
       "      <td>1991.000000</td>\n",
       "    </tr>\n",
       "    <tr>\n",
       "      <th>max</th>\n",
       "      <td>2.174223e+07</td>\n",
       "      <td>59.000000</td>\n",
       "      <td>6470.000000</td>\n",
       "      <td>1.139070e+06</td>\n",
       "      <td>662.000000</td>\n",
       "      <td>661.000000</td>\n",
       "      <td>2002.000000</td>\n",
       "    </tr>\n",
       "  </tbody>\n",
       "</table>\n",
       "</div>"
      ],
      "text/plain": [
       "            user_id  timeduration       bikeid  tripduration  from_station_id  \\\n",
       "count  6.427000e+03   6427.000000  6427.000000  6.427000e+03      6427.000000   \n",
       "mean   2.135519e+07     11.778902  3491.637934  1.060471e+03       195.038432   \n",
       "std    2.181294e+05      9.692236  1912.171846  1.456811e+04       148.170025   \n",
       "min    2.098358e+07      0.000000     2.000000  6.100000e+01         2.000000   \n",
       "25%    2.116805e+07      5.000000  1852.000000  3.490000e+02        77.000000   \n",
       "50%    2.135114e+07      9.000000  3618.000000  5.590000e+02       168.000000   \n",
       "75%    2.154376e+07     15.000000  5179.500000  9.320000e+02       287.000000   \n",
       "max    2.174223e+07     59.000000  6470.000000  1.139070e+06       662.000000   \n",
       "\n",
       "       to_station_id    birthyear  \n",
       "count    6427.000000  5956.000000  \n",
       "mean      198.502567  1982.488583  \n",
       "std       148.939873    11.147859  \n",
       "min         2.000000  1906.000000  \n",
       "25%        80.000000  1977.000000  \n",
       "50%       172.000000  1986.000000  \n",
       "75%       287.000000  1991.000000  \n",
       "max       661.000000  2002.000000  "
      ]
     },
     "execution_count": 6,
     "metadata": {},
     "output_type": "execute_result"
    }
   ],
   "source": [
    "mb.describe()"
   ]
  },
  {
   "cell_type": "code",
   "execution_count": 7,
   "metadata": {},
   "outputs": [
    {
     "data": {
      "text/plain": [
       "0"
      ]
     },
     "execution_count": 7,
     "metadata": {},
     "output_type": "execute_result"
    }
   ],
   "source": [
    "sum(mb.duplicated())"
   ]
  },
  {
   "cell_type": "markdown",
   "metadata": {},
   "source": [
    "- user_id,from_station_id,to_station_id，bikeid都应该是object类型\n",
    "- birthyear应该是int整数型数据"
   ]
  },
  {
   "cell_type": "code",
   "execution_count": 8,
   "metadata": {},
   "outputs": [],
   "source": [
    "#更改数据类型\n",
    "mb['user_id'] = mb['user_id'].astype(str)\n",
    "mb['bikeid'] = mb['bikeid'].astype(str)"
   ]
  },
  {
   "cell_type": "code",
   "execution_count": 9,
   "metadata": {},
   "outputs": [
    {
     "name": "stdout",
     "output_type": "stream",
     "text": [
      "<class 'pandas.core.frame.DataFrame'>\n",
      "Int64Index: 6427 entries, 439283 to 278179\n",
      "Data columns (total 14 columns):\n",
      " #   Column             Non-Null Count  Dtype  \n",
      "---  ------             --------------  -----  \n",
      " 0   user_id            6427 non-null   object \n",
      " 1   start_time         6427 non-null   object \n",
      " 2   end_time           6427 non-null   object \n",
      " 3   timeduration       6427 non-null   int64  \n",
      " 4   bikeid             6427 non-null   object \n",
      " 5   tripduration       6427 non-null   int64  \n",
      " 6   from_station_id    6427 non-null   int64  \n",
      " 7   from_station_name  6427 non-null   object \n",
      " 8   to_station_id      6427 non-null   int64  \n",
      " 9   to_station_name    6427 non-null   object \n",
      " 10  usertype           6427 non-null   object \n",
      " 11  gender             5938 non-null   object \n",
      " 12  birthyear          5956 non-null   float64\n",
      " 13  age                6427 non-null   object \n",
      "dtypes: float64(1), int64(4), object(9)\n",
      "memory usage: 753.2+ KB\n"
     ]
    }
   ],
   "source": [
    "mb.info()"
   ]
  },
  {
   "cell_type": "markdown",
   "metadata": {},
   "source": [
    "### 3.1.1user_id"
   ]
  },
  {
   "cell_type": "code",
   "execution_count": 10,
   "metadata": {},
   "outputs": [
    {
     "data": {
      "text/plain": [
       "6427"
      ]
     },
     "execution_count": 10,
     "metadata": {},
     "output_type": "execute_result"
    }
   ],
   "source": [
    "mb.user_id.nunique()"
   ]
  },
  {
   "cell_type": "markdown",
   "metadata": {},
   "source": [
    "- user_id 6427个，正好和样本数据一致，因为没有重复的id，和索引id功能一致，因此可以直接删除"
   ]
  },
  {
   "cell_type": "code",
   "execution_count": 11,
   "metadata": {},
   "outputs": [],
   "source": [
    "mb=mb.drop(['user_id'],axis=1)"
   ]
  },
  {
   "cell_type": "markdown",
   "metadata": {},
   "source": [
    "### 3.1.2timeduration"
   ]
  },
  {
   "cell_type": "code",
   "execution_count": 12,
   "metadata": {},
   "outputs": [
    {
     "data": {
      "text/plain": [
       "count    6427.000000\n",
       "mean       11.778902\n",
       "std         9.692236\n",
       "min         0.000000\n",
       "25%         5.000000\n",
       "50%         9.000000\n",
       "75%        15.000000\n",
       "max        59.000000\n",
       "Name: timeduration, dtype: float64"
      ]
     },
     "execution_count": 12,
     "metadata": {},
     "output_type": "execute_result"
    }
   ],
   "source": [
    "mb['timeduration'].describe()"
   ]
  },
  {
   "cell_type": "code",
   "execution_count": 13,
   "metadata": {},
   "outputs": [
    {
     "data": {
      "text/html": [
       "<div>\n",
       "<style scoped>\n",
       "    .dataframe tbody tr th:only-of-type {\n",
       "        vertical-align: middle;\n",
       "    }\n",
       "\n",
       "    .dataframe tbody tr th {\n",
       "        vertical-align: top;\n",
       "    }\n",
       "\n",
       "    .dataframe thead th {\n",
       "        text-align: right;\n",
       "    }\n",
       "</style>\n",
       "<table border=\"1\" class=\"dataframe\">\n",
       "  <thead>\n",
       "    <tr style=\"text-align: right;\">\n",
       "      <th></th>\n",
       "      <th>start_time</th>\n",
       "      <th>end_time</th>\n",
       "      <th>timeduration</th>\n",
       "      <th>bikeid</th>\n",
       "      <th>tripduration</th>\n",
       "      <th>from_station_id</th>\n",
       "      <th>from_station_name</th>\n",
       "      <th>to_station_id</th>\n",
       "      <th>to_station_name</th>\n",
       "      <th>usertype</th>\n",
       "      <th>gender</th>\n",
       "      <th>birthyear</th>\n",
       "      <th>age</th>\n",
       "    </tr>\n",
       "  </thead>\n",
       "  <tbody>\n",
       "    <tr>\n",
       "      <th>109113</th>\n",
       "      <td>10/9/2018 11:29</td>\n",
       "      <td>10/9/2018 12:29</td>\n",
       "      <td>0</td>\n",
       "      <td>4875</td>\n",
       "      <td>3616</td>\n",
       "      <td>225</td>\n",
       "      <td>Halsted St &amp; Dickens Ave</td>\n",
       "      <td>172</td>\n",
       "      <td>Rush St &amp; Cedar St</td>\n",
       "      <td>Customer</td>\n",
       "      <td>NaN</td>\n",
       "      <td>NaN</td>\n",
       "      <td></td>\n",
       "    </tr>\n",
       "    <tr>\n",
       "      <th>72232</th>\n",
       "      <td>10/6/2018 10:15</td>\n",
       "      <td>10/6/2018 11:15</td>\n",
       "      <td>0</td>\n",
       "      <td>4733</td>\n",
       "      <td>3606</td>\n",
       "      <td>419</td>\n",
       "      <td>Lake Park Ave &amp; 53rd St</td>\n",
       "      <td>76</td>\n",
       "      <td>Lake Shore Dr &amp; Monroe St</td>\n",
       "      <td>Customer</td>\n",
       "      <td>NaN</td>\n",
       "      <td>NaN</td>\n",
       "      <td></td>\n",
       "    </tr>\n",
       "    <tr>\n",
       "      <th>69595</th>\n",
       "      <td>10/5/2018 18:27</td>\n",
       "      <td>10/5/2018 19:28</td>\n",
       "      <td>0</td>\n",
       "      <td>2064</td>\n",
       "      <td>3650</td>\n",
       "      <td>50</td>\n",
       "      <td>Clark St &amp; Congress Pkwy</td>\n",
       "      <td>283</td>\n",
       "      <td>LaSalle St &amp; Jackson Blvd</td>\n",
       "      <td>Customer</td>\n",
       "      <td>Male</td>\n",
       "      <td>1989.0</td>\n",
       "      <td>30</td>\n",
       "    </tr>\n",
       "    <tr>\n",
       "      <th>302629</th>\n",
       "      <td>10/27/2018 15:33</td>\n",
       "      <td>10/27/2018 16:34</td>\n",
       "      <td>0</td>\n",
       "      <td>5051</td>\n",
       "      <td>3634</td>\n",
       "      <td>3</td>\n",
       "      <td>Shedd Aquarium</td>\n",
       "      <td>199</td>\n",
       "      <td>Wabash Ave &amp; Grand Ave</td>\n",
       "      <td>Customer</td>\n",
       "      <td>NaN</td>\n",
       "      <td>NaN</td>\n",
       "      <td></td>\n",
       "    </tr>\n",
       "    <tr>\n",
       "      <th>592619</th>\n",
       "      <td>12/17/2018 9:17</td>\n",
       "      <td>12/17/2018 10:18</td>\n",
       "      <td>0</td>\n",
       "      <td>4316</td>\n",
       "      <td>3652</td>\n",
       "      <td>99</td>\n",
       "      <td>Lake Shore Dr &amp; Ohio St</td>\n",
       "      <td>96</td>\n",
       "      <td>Desplaines St &amp; Randolph St</td>\n",
       "      <td>Subscriber</td>\n",
       "      <td>Male</td>\n",
       "      <td>1988.0</td>\n",
       "      <td>31</td>\n",
       "    </tr>\n",
       "  </tbody>\n",
       "</table>\n",
       "</div>"
      ],
      "text/plain": [
       "              start_time          end_time  timeduration bikeid  tripduration  \\\n",
       "109113   10/9/2018 11:29   10/9/2018 12:29             0   4875          3616   \n",
       "72232    10/6/2018 10:15   10/6/2018 11:15             0   4733          3606   \n",
       "69595    10/5/2018 18:27   10/5/2018 19:28             0   2064          3650   \n",
       "302629  10/27/2018 15:33  10/27/2018 16:34             0   5051          3634   \n",
       "592619   12/17/2018 9:17  12/17/2018 10:18             0   4316          3652   \n",
       "\n",
       "        from_station_id         from_station_name  to_station_id  \\\n",
       "109113              225  Halsted St & Dickens Ave            172   \n",
       "72232               419   Lake Park Ave & 53rd St             76   \n",
       "69595                50  Clark St & Congress Pkwy            283   \n",
       "302629                3            Shedd Aquarium            199   \n",
       "592619               99   Lake Shore Dr & Ohio St             96   \n",
       "\n",
       "                    to_station_name    usertype gender  birthyear age  \n",
       "109113           Rush St & Cedar St    Customer    NaN        NaN      \n",
       "72232     Lake Shore Dr & Monroe St    Customer    NaN        NaN      \n",
       "69595     LaSalle St & Jackson Blvd    Customer   Male     1989.0  30  \n",
       "302629       Wabash Ave & Grand Ave    Customer    NaN        NaN      \n",
       "592619  Desplaines St & Randolph St  Subscriber   Male     1988.0  31  "
      ]
     },
     "execution_count": 13,
     "metadata": {},
     "output_type": "execute_result"
    }
   ],
   "source": [
    "mb[mb['timeduration']<1]\n",
    "#timeduration为0的仅有五个，按照end_time减去start_time计算，发现都是1小时或者1小时一分钟，可重置为60分钟"
   ]
  },
  {
   "cell_type": "code",
   "execution_count": 14,
   "metadata": {},
   "outputs": [],
   "source": [
    "mb['timeduration'] = mb['timeduration'].replace(0,60)"
   ]
  },
  {
   "cell_type": "markdown",
   "metadata": {},
   "source": [
    "### 3.1.3bikeid"
   ]
  },
  {
   "cell_type": "markdown",
   "metadata": {},
   "source": [
    "- 目标任务是对客户进行分群，那么bikeid是无用变量，直接删除就行"
   ]
  },
  {
   "cell_type": "code",
   "execution_count": 15,
   "metadata": {},
   "outputs": [],
   "source": [
    "mb=mb.drop(['bikeid'],axis=1)"
   ]
  },
  {
   "cell_type": "markdown",
   "metadata": {},
   "source": [
    "### 3.1.4tripduration"
   ]
  },
  {
   "cell_type": "code",
   "execution_count": 16,
   "metadata": {},
   "outputs": [
    {
     "data": {
      "text/plain": [
       "count    6.427000e+03\n",
       "mean     1.060471e+03\n",
       "std      1.456811e+04\n",
       "min      6.100000e+01\n",
       "25%      3.490000e+02\n",
       "50%      5.590000e+02\n",
       "75%      9.320000e+02\n",
       "max      1.139070e+06\n",
       "Name: tripduration, dtype: float64"
      ]
     },
     "execution_count": 16,
     "metadata": {},
     "output_type": "execute_result"
    }
   ],
   "source": [
    "mb['tripduration'].describe()"
   ]
  },
  {
   "cell_type": "code",
   "execution_count": 17,
   "metadata": {},
   "outputs": [],
   "source": [
    "#先转换数据类型为int整数型\n",
    "mb['tripduration'] = mb['tripduration'].astype(int)"
   ]
  },
  {
   "cell_type": "code",
   "execution_count": 18,
   "metadata": {},
   "outputs": [
    {
     "data": {
      "text/plain": [
       "<matplotlib.axes._subplots.AxesSubplot at 0x1a6b8089e88>"
      ]
     },
     "execution_count": 18,
     "metadata": {},
     "output_type": "execute_result"
    },
    {
     "data": {
      "image/png": "[encoded data removed]",
      "text/plain": [
       "<Figure size 432x288 with 1 Axes>"
      ]
     },
     "metadata": {
      "needs_background": "light"
     },
     "output_type": "display_data"
    }
   ],
   "source": [
    "#可视化查看数据分布\n",
    "mb['tripduration'].plot(kind='box')\n",
    "# 可以看出，tripduration有异常值存在，1小时内能骑到1000000米。。因此需要删除离群值"
   ]
  },
  {
   "cell_type": "code",
   "execution_count": 19,
   "metadata": {},
   "outputs": [
    {
     "data": {
      "text/plain": [
       "932.0"
      ]
     },
     "execution_count": 19,
     "metadata": {},
     "output_type": "execute_result"
    }
   ],
   "source": [
    "mb['tripduration'].quantile(.75)"
   ]
  },
  {
   "cell_type": "code",
   "execution_count": 20,
   "metadata": {},
   "outputs": [
    {
     "name": "stdout",
     "output_type": "stream",
     "text": [
      "1806.5\n"
     ]
    }
   ],
   "source": [
    "#找出最大值\n",
    "IQR=mb['tripduration'].quantile(.75)-mb['tripduration'].quantile(.25)\n",
    "MAX=mb['tripduration'].quantile(.75)+ 1.5* IQR\n",
    "print(MAX)"
   ]
  },
  {
   "cell_type": "code",
   "execution_count": 21,
   "metadata": {},
   "outputs": [],
   "source": [
    "#最大值为1806.5米，删除大于最大值的部分\n",
    "mb=mb[mb['tripduration']<=1806.5]"
   ]
  },
  {
   "cell_type": "code",
   "execution_count": 22,
   "metadata": {},
   "outputs": [
    {
     "data": {
      "text/plain": [
       "<matplotlib.axes._subplots.AxesSubplot at 0x1a6b8882248>"
      ]
     },
     "execution_count": 22,
     "metadata": {},
     "output_type": "execute_result"
    },
    {
     "data": {
      "image/png": "[encoded data removed]",
      "text/plain": [
       "<Figure size 432x288 with 1 Axes>"
      ]
     },
     "metadata": {
      "needs_background": "light"
     },
     "output_type": "display_data"
    }
   ],
   "source": [
    "mb['tripduration'].plot(kind='hist')"
   ]
  },
  {
   "cell_type": "markdown",
   "metadata": {},
   "source": [
    "### 3.1.5age"
   ]
  },
  {
   "cell_type": "code",
   "execution_count": 23,
   "metadata": {},
   "outputs": [
    {
     "ename": "ValueError",
     "evalue": "invalid literal for int() with base 10: ' '",
     "output_type": "error",
     "traceback": [
      "\u001b[1;31m---------------------------------------------------------------------------\u001b[0m",
      "\u001b[1;31mValueError\u001b[0m                                Traceback (most recent call last)",
      "\u001b[1;32m<ipython-input-23-b6dd5709e198>\u001b[0m in \u001b[0;36m<module>\u001b[1;34m\u001b[0m\n\u001b[0;32m      1\u001b[0m \u001b[1;31m#年龄应该为数值型数据，先更改数据类型\u001b[0m\u001b[1;33m\u001b[0m\u001b[1;33m\u001b[0m\u001b[1;33m\u001b[0m\u001b[0m\n\u001b[1;32m----> 2\u001b[1;33m \u001b[0mmb\u001b[0m\u001b[1;33m[\u001b[0m\u001b[1;34m'age'\u001b[0m\u001b[1;33m]\u001b[0m\u001b[1;33m=\u001b[0m \u001b[0mmb\u001b[0m\u001b[1;33m[\u001b[0m\u001b[1;34m'age'\u001b[0m\u001b[1;33m]\u001b[0m\u001b[1;33m.\u001b[0m\u001b[0mastype\u001b[0m\u001b[1;33m(\u001b[0m\u001b[0mint\u001b[0m\u001b[1;33m)\u001b[0m\u001b[1;33m\u001b[0m\u001b[1;33m\u001b[0m\u001b[0m\n\u001b[0m",
      "\u001b[1;32mD:\\Anaconda\\lib\\site-packages\\pandas\\core\\generic.py\u001b[0m in \u001b[0;36mastype\u001b[1;34m(self, dtype, copy, errors)\u001b[0m\n\u001b[0;32m   5696\u001b[0m         \u001b[1;32melse\u001b[0m\u001b[1;33m:\u001b[0m\u001b[1;33m\u001b[0m\u001b[1;33m\u001b[0m\u001b[0m\n\u001b[0;32m   5697\u001b[0m             \u001b[1;31m# else, only a single dtype is given\u001b[0m\u001b[1;33m\u001b[0m\u001b[1;33m\u001b[0m\u001b[1;33m\u001b[0m\u001b[0m\n\u001b[1;32m-> 5698\u001b[1;33m             \u001b[0mnew_data\u001b[0m \u001b[1;33m=\u001b[0m \u001b[0mself\u001b[0m\u001b[1;33m.\u001b[0m\u001b[0m_data\u001b[0m\u001b[1;33m.\u001b[0m\u001b[0mastype\u001b[0m\u001b[1;33m(\u001b[0m\u001b[0mdtype\u001b[0m\u001b[1;33m=\u001b[0m\u001b[0mdtype\u001b[0m\u001b[1;33m,\u001b[0m \u001b[0mcopy\u001b[0m\u001b[1;33m=\u001b[0m\u001b[0mcopy\u001b[0m\u001b[1;33m,\u001b[0m \u001b[0merrors\u001b[0m\u001b[1;33m=\u001b[0m\u001b[0merrors\u001b[0m\u001b[1;33m)\u001b[0m\u001b[1;33m\u001b[0m\u001b[1;33m\u001b[0m\u001b[0m\n\u001b[0m\u001b[0;32m   5699\u001b[0m             \u001b[1;32mreturn\u001b[0m \u001b[0mself\u001b[0m\u001b[1;33m.\u001b[0m\u001b[0m_constructor\u001b[0m\u001b[1;33m(\u001b[0m\u001b[0mnew_data\u001b[0m\u001b[1;33m)\u001b[0m\u001b[1;33m.\u001b[0m\u001b[0m__finalize__\u001b[0m\u001b[1;33m(\u001b[0m\u001b[0mself\u001b[0m\u001b[1;33m)\u001b[0m\u001b[1;33m\u001b[0m\u001b[1;33m\u001b[0m\u001b[0m\n\u001b[0;32m   5700\u001b[0m \u001b[1;33m\u001b[0m\u001b[0m\n",
      "\u001b[1;32mD:\\Anaconda\\lib\\site-packages\\pandas\\core\\internals\\managers.py\u001b[0m in \u001b[0;36mastype\u001b[1;34m(self, dtype, copy, errors)\u001b[0m\n\u001b[0;32m    580\u001b[0m \u001b[1;33m\u001b[0m\u001b[0m\n\u001b[0;32m    581\u001b[0m     \u001b[1;32mdef\u001b[0m \u001b[0mastype\u001b[0m\u001b[1;33m(\u001b[0m\u001b[0mself\u001b[0m\u001b[1;33m,\u001b[0m \u001b[0mdtype\u001b[0m\u001b[1;33m,\u001b[0m \u001b[0mcopy\u001b[0m\u001b[1;33m:\u001b[0m \u001b[0mbool\u001b[0m \u001b[1;33m=\u001b[0m \u001b[1;32mFalse\u001b[0m\u001b[1;33m,\u001b[0m \u001b[0merrors\u001b[0m\u001b[1;33m:\u001b[0m \u001b[0mstr\u001b[0m \u001b[1;33m=\u001b[0m \u001b[1;34m\"raise\"\u001b[0m\u001b[1;33m)\u001b[0m\u001b[1;33m:\u001b[0m\u001b[1;33m\u001b[0m\u001b[1;33m\u001b[0m\u001b[0m\n\u001b[1;32m--> 582\u001b[1;33m         \u001b[1;32mreturn\u001b[0m \u001b[0mself\u001b[0m\u001b[1;33m.\u001b[0m\u001b[0mapply\u001b[0m\u001b[1;33m(\u001b[0m\u001b[1;34m\"astype\"\u001b[0m\u001b[1;33m,\u001b[0m \u001b[0mdtype\u001b[0m\u001b[1;33m=\u001b[0m\u001b[0mdtype\u001b[0m\u001b[1;33m,\u001b[0m \u001b[0mcopy\u001b[0m\u001b[1;33m=\u001b[0m\u001b[0mcopy\u001b[0m\u001b[1;33m,\u001b[0m \u001b[0merrors\u001b[0m\u001b[1;33m=\u001b[0m\u001b[0merrors\u001b[0m\u001b[1;33m)\u001b[0m\u001b[1;33m\u001b[0m\u001b[1;33m\u001b[0m\u001b[0m\n\u001b[0m\u001b[0;32m    583\u001b[0m \u001b[1;33m\u001b[0m\u001b[0m\n\u001b[0;32m    584\u001b[0m     \u001b[1;32mdef\u001b[0m \u001b[0mconvert\u001b[0m\u001b[1;33m(\u001b[0m\u001b[0mself\u001b[0m\u001b[1;33m,\u001b[0m \u001b[1;33m**\u001b[0m\u001b[0mkwargs\u001b[0m\u001b[1;33m)\u001b[0m\u001b[1;33m:\u001b[0m\u001b[1;33m\u001b[0m\u001b[1;33m\u001b[0m\u001b[0m\n",
      "\u001b[1;32mD:\\Anaconda\\lib\\site-packages\\pandas\\core\\internals\\managers.py\u001b[0m in \u001b[0;36mapply\u001b[1;34m(self, f, filter, **kwargs)\u001b[0m\n\u001b[0;32m    440\u001b[0m                 \u001b[0mapplied\u001b[0m \u001b[1;33m=\u001b[0m \u001b[0mb\u001b[0m\u001b[1;33m.\u001b[0m\u001b[0mapply\u001b[0m\u001b[1;33m(\u001b[0m\u001b[0mf\u001b[0m\u001b[1;33m,\u001b[0m \u001b[1;33m**\u001b[0m\u001b[0mkwargs\u001b[0m\u001b[1;33m)\u001b[0m\u001b[1;33m\u001b[0m\u001b[1;33m\u001b[0m\u001b[0m\n\u001b[0;32m    441\u001b[0m             \u001b[1;32melse\u001b[0m\u001b[1;33m:\u001b[0m\u001b[1;33m\u001b[0m\u001b[1;33m\u001b[0m\u001b[0m\n\u001b[1;32m--> 442\u001b[1;33m                 \u001b[0mapplied\u001b[0m \u001b[1;33m=\u001b[0m \u001b[0mgetattr\u001b[0m\u001b[1;33m(\u001b[0m\u001b[0mb\u001b[0m\u001b[1;33m,\u001b[0m \u001b[0mf\u001b[0m\u001b[1;33m)\u001b[0m\u001b[1;33m(\u001b[0m\u001b[1;33m**\u001b[0m\u001b[0mkwargs\u001b[0m\u001b[1;33m)\u001b[0m\u001b[1;33m\u001b[0m\u001b[1;33m\u001b[0m\u001b[0m\n\u001b[0m\u001b[0;32m    443\u001b[0m             \u001b[0mresult_blocks\u001b[0m \u001b[1;33m=\u001b[0m \u001b[0m_extend_blocks\u001b[0m\u001b[1;33m(\u001b[0m\u001b[0mapplied\u001b[0m\u001b[1;33m,\u001b[0m \u001b[0mresult_blocks\u001b[0m\u001b[1;33m)\u001b[0m\u001b[1;33m\u001b[0m\u001b[1;33m\u001b[0m\u001b[0m\n\u001b[0;32m    444\u001b[0m \u001b[1;33m\u001b[0m\u001b[0m\n",
      "\u001b[1;32mD:\\Anaconda\\lib\\site-packages\\pandas\\core\\internals\\blocks.py\u001b[0m in \u001b[0;36mastype\u001b[1;34m(self, dtype, copy, errors)\u001b[0m\n\u001b[0;32m    623\u001b[0m             \u001b[0mvals1d\u001b[0m \u001b[1;33m=\u001b[0m \u001b[0mvalues\u001b[0m\u001b[1;33m.\u001b[0m\u001b[0mravel\u001b[0m\u001b[1;33m(\u001b[0m\u001b[1;33m)\u001b[0m\u001b[1;33m\u001b[0m\u001b[1;33m\u001b[0m\u001b[0m\n\u001b[0;32m    624\u001b[0m             \u001b[1;32mtry\u001b[0m\u001b[1;33m:\u001b[0m\u001b[1;33m\u001b[0m\u001b[1;33m\u001b[0m\u001b[0m\n\u001b[1;32m--> 625\u001b[1;33m                 \u001b[0mvalues\u001b[0m \u001b[1;33m=\u001b[0m \u001b[0mastype_nansafe\u001b[0m\u001b[1;33m(\u001b[0m\u001b[0mvals1d\u001b[0m\u001b[1;33m,\u001b[0m \u001b[0mdtype\u001b[0m\u001b[1;33m,\u001b[0m \u001b[0mcopy\u001b[0m\u001b[1;33m=\u001b[0m\u001b[1;32mTrue\u001b[0m\u001b[1;33m)\u001b[0m\u001b[1;33m\u001b[0m\u001b[1;33m\u001b[0m\u001b[0m\n\u001b[0m\u001b[0;32m    626\u001b[0m             \u001b[1;32mexcept\u001b[0m \u001b[1;33m(\u001b[0m\u001b[0mValueError\u001b[0m\u001b[1;33m,\u001b[0m \u001b[0mTypeError\u001b[0m\u001b[1;33m)\u001b[0m\u001b[1;33m:\u001b[0m\u001b[1;33m\u001b[0m\u001b[1;33m\u001b[0m\u001b[0m\n\u001b[0;32m    627\u001b[0m                 \u001b[1;31m# e.g. astype_nansafe can fail on object-dtype of strings\u001b[0m\u001b[1;33m\u001b[0m\u001b[1;33m\u001b[0m\u001b[1;33m\u001b[0m\u001b[0m\n",
      "\u001b[1;32mD:\\Anaconda\\lib\\site-packages\\pandas\\core\\dtypes\\cast.py\u001b[0m in \u001b[0;36mastype_nansafe\u001b[1;34m(arr, dtype, copy, skipna)\u001b[0m\n\u001b[0;32m    872\u001b[0m         \u001b[1;31m# work around NumPy brokenness, #1987\u001b[0m\u001b[1;33m\u001b[0m\u001b[1;33m\u001b[0m\u001b[1;33m\u001b[0m\u001b[0m\n\u001b[0;32m    873\u001b[0m         \u001b[1;32mif\u001b[0m \u001b[0mnp\u001b[0m\u001b[1;33m.\u001b[0m\u001b[0missubdtype\u001b[0m\u001b[1;33m(\u001b[0m\u001b[0mdtype\u001b[0m\u001b[1;33m.\u001b[0m\u001b[0mtype\u001b[0m\u001b[1;33m,\u001b[0m \u001b[0mnp\u001b[0m\u001b[1;33m.\u001b[0m\u001b[0minteger\u001b[0m\u001b[1;33m)\u001b[0m\u001b[1;33m:\u001b[0m\u001b[1;33m\u001b[0m\u001b[1;33m\u001b[0m\u001b[0m\n\u001b[1;32m--> 874\u001b[1;33m             \u001b[1;32mreturn\u001b[0m \u001b[0mlib\u001b[0m\u001b[1;33m.\u001b[0m\u001b[0mastype_intsafe\u001b[0m\u001b[1;33m(\u001b[0m\u001b[0marr\u001b[0m\u001b[1;33m.\u001b[0m\u001b[0mravel\u001b[0m\u001b[1;33m(\u001b[0m\u001b[1;33m)\u001b[0m\u001b[1;33m,\u001b[0m \u001b[0mdtype\u001b[0m\u001b[1;33m)\u001b[0m\u001b[1;33m.\u001b[0m\u001b[0mreshape\u001b[0m\u001b[1;33m(\u001b[0m\u001b[0marr\u001b[0m\u001b[1;33m.\u001b[0m\u001b[0mshape\u001b[0m\u001b[1;33m)\u001b[0m\u001b[1;33m\u001b[0m\u001b[1;33m\u001b[0m\u001b[0m\n\u001b[0m\u001b[0;32m    875\u001b[0m \u001b[1;33m\u001b[0m\u001b[0m\n\u001b[0;32m    876\u001b[0m         \u001b[1;31m# if we have a datetime/timedelta array of objects\u001b[0m\u001b[1;33m\u001b[0m\u001b[1;33m\u001b[0m\u001b[1;33m\u001b[0m\u001b[0m\n",
      "\u001b[1;32mpandas\\_libs\\lib.pyx\u001b[0m in \u001b[0;36mpandas._libs.lib.astype_intsafe\u001b[1;34m()\u001b[0m\n",
      "\u001b[1;31mValueError\u001b[0m: invalid literal for int() with base 10: ' '"
     ]
    }
   ],
   "source": [
    "#年龄应该为数值型数据，先更改数据类型\n",
    "mb['age']= mb['age'].astype(int)"
   ]
  },
  {
   "cell_type": "code",
   "execution_count": 24,
   "metadata": {},
   "outputs": [
    {
     "data": {
      "text/plain": [
       "array(['37', '31', '30', '40', '25', '48', ' ', '28', '27', '34', '33',\n",
       "       '26', '20', '23', '22', '54', '52', '57', '29', '39', '51', '55',\n",
       "       '32', '49', '58', '42', '61', '35', '41', '63', '50', '38', '36',\n",
       "       '43', '44', '19', '59', '45', '46', '56', '21', '24', '47', '66',\n",
       "       '64', '62', '77', '69', '60', '68', '70', '53', '113', '73', '18',\n",
       "       '67', '65', '71', '79', '17', '74', '72', '101'], dtype=object)"
      ]
     },
     "execution_count": 24,
     "metadata": {},
     "output_type": "execute_result"
    }
   ],
   "source": [
    "#报错显示存在空白值，需要进行填充，首先看是否可通过birthyear进行转化\n",
    "mb.age.unique()"
   ]
  },
  {
   "cell_type": "code",
   "execution_count": 25,
   "metadata": {},
   "outputs": [
    {
     "data": {
      "text/plain": [
       "array([nan])"
      ]
     },
     "execution_count": 25,
     "metadata": {},
     "output_type": "execute_result"
    }
   ],
   "source": [
    "mb[mb['age']==' ']['birthyear'].unique()\n",
    "#年龄为空白的数据出生年份也为空值"
   ]
  },
  {
   "cell_type": "code",
   "execution_count": 26,
   "metadata": {},
   "outputs": [
    {
     "data": {
      "text/plain": [
       "True"
      ]
     },
     "execution_count": 26,
     "metadata": {},
     "output_type": "execute_result"
    }
   ],
   "source": [
    "(mb[mb['age']==' '].index== mb[mb.birthyear.isna()].index).all()\n",
    "#利用索引查看是否age空白的和birthyear缺失值的数据完全一致，结果是完全一致的"
   ]
  },
  {
   "cell_type": "code",
   "execution_count": 27,
   "metadata": {},
   "outputs": [
    {
     "data": {
      "text/plain": [
       "292"
      ]
     },
     "execution_count": 27,
     "metadata": {},
     "output_type": "execute_result"
    }
   ],
   "source": [
    "mb.birthyear.isna().sum()\n",
    "#birthyear和age有292个空缺值，292/6427占比0.045，用中位数或者均值填充比较好"
   ]
  },
  {
   "cell_type": "code",
   "execution_count": 28,
   "metadata": {},
   "outputs": [
    {
     "name": "stdout",
     "output_type": "stream",
     "text": [
      "33\n"
     ]
    }
   ],
   "source": [
    "age_median = int(mb[mb['age']!=' ']['age'].astype(int).median())\n",
    "print(age_median)"
   ]
  },
  {
   "cell_type": "code",
   "execution_count": 29,
   "metadata": {},
   "outputs": [
    {
     "data": {
      "text/plain": [
       "<matplotlib.axes._subplots.AxesSubplot at 0x1a6b8b5cc48>"
      ]
     },
     "execution_count": 29,
     "metadata": {},
     "output_type": "execute_result"
    },
    {
     "data": {
      "image/png": "[encoded data removed]",
      "text/plain": [
       "<Figure size 432x288 with 1 Axes>"
      ]
     },
     "metadata": {
      "needs_background": "light"
     },
     "output_type": "display_data"
    }
   ],
   "source": [
    "#先试试用中位数填充\n",
    "mb.age.str.replace(' ',str(age_median)).astype(int).plot(kind='hist')"
   ]
  },
  {
   "cell_type": "code",
   "execution_count": 30,
   "metadata": {},
   "outputs": [
    {
     "name": "stdout",
     "output_type": "stream",
     "text": [
      "36\n"
     ]
    }
   ],
   "source": [
    "age_mean = int(mb[mb['age']!=' ']['age'].astype(int).mean())\n",
    "print(age_mean)"
   ]
  },
  {
   "cell_type": "code",
   "execution_count": 31,
   "metadata": {},
   "outputs": [
    {
     "data": {
      "text/plain": [
       "<matplotlib.axes._subplots.AxesSubplot at 0x1a6b8bbcc08>"
      ]
     },
     "execution_count": 31,
     "metadata": {},
     "output_type": "execute_result"
    },
    {
     "data": {
      "image/png": "[encoded data removed]",
      "text/plain": [
       "<Figure size 432x288 with 1 Axes>"
      ]
     },
     "metadata": {
      "needs_background": "light"
     },
     "output_type": "display_data"
    }
   ],
   "source": [
    "#再试试用均值填充\n",
    "mb.age.str.replace(' ',str(age_mean)).astype(int).plot(kind='hist')"
   ]
  },
  {
   "cell_type": "code",
   "execution_count": 32,
   "metadata": {},
   "outputs": [],
   "source": [
    "#数据整体偏均值右侧，因此为数据调整正态分布，选择中位数填充\n",
    "mb['age'] = mb.age.str.replace(' ',str(age_median)).astype(int)\n",
    "#数据中有年龄过大的，超过80再骑车就有点奇怪，就算可能有也是少数不是我们关注的重点对象，因此需要进行离群值处理"
   ]
  },
  {
   "cell_type": "code",
   "execution_count": 33,
   "metadata": {},
   "outputs": [
    {
     "name": "stdout",
     "output_type": "stream",
     "text": [
      "63.0\n"
     ]
    }
   ],
   "source": [
    "IQR1=mb['age'].quantile(.75)-mb['age'].quantile(.25)\n",
    "MAX1=mb['age'].quantile(.75)+ 1.5* IQR1\n",
    "print(MAX1)"
   ]
  },
  {
   "cell_type": "code",
   "execution_count": 34,
   "metadata": {},
   "outputs": [],
   "source": [
    "mb=mb[mb['age']<=63]"
   ]
  },
  {
   "cell_type": "code",
   "execution_count": 35,
   "metadata": {},
   "outputs": [
    {
     "data": {
      "text/plain": [
       "count    5853.000000\n",
       "mean       35.683752\n",
       "std         9.970922\n",
       "min        17.000000\n",
       "25%        28.000000\n",
       "50%        33.000000\n",
       "75%        41.000000\n",
       "max        63.000000\n",
       "Name: age, dtype: float64"
      ]
     },
     "execution_count": 35,
     "metadata": {},
     "output_type": "execute_result"
    }
   ],
   "source": [
    "mb['age']=mb['age'].astype(int)\n",
    "mb['age'].describe()"
   ]
  },
  {
   "cell_type": "markdown",
   "metadata": {},
   "source": [
    "### 3.1.6birthyear"
   ]
  },
  {
   "cell_type": "markdown",
   "metadata": {},
   "source": [
    "- age已处理完成，birthyear没有意义可直接删除"
   ]
  },
  {
   "cell_type": "code",
   "execution_count": 36,
   "metadata": {},
   "outputs": [],
   "source": [
    "mb=mb.drop(['birthyear'],axis=1)"
   ]
  },
  {
   "cell_type": "markdown",
   "metadata": {},
   "source": [
    "## 3.2分类型数据处理"
   ]
  },
  {
   "cell_type": "markdown",
   "metadata": {},
   "source": [
    "### 3.2.1usertype"
   ]
  },
  {
   "cell_type": "code",
   "execution_count": 37,
   "metadata": {},
   "outputs": [],
   "source": [
    "mb['usertype'].value_counts()\n",
    "#客户分为两类，大部分都是订阅者，有利于客户忠诚度以及留存\n",
    "mb['usertype']=mb['usertype'].astype(object)"
   ]
  },
  {
   "cell_type": "markdown",
   "metadata": {},
   "source": [
    "### 3.2.2from_station_name和to_station_name"
   ]
  },
  {
   "cell_type": "markdown",
   "metadata": {},
   "source": [
    "- 两者都与Id重复，直接删除"
   ]
  },
  {
   "cell_type": "code",
   "execution_count": 38,
   "metadata": {},
   "outputs": [],
   "source": [
    "mb=mb.drop(['from_station_name'],axis=1)\n",
    "mb=mb.drop(['to_station_name'],axis=1)"
   ]
  },
  {
   "cell_type": "markdown",
   "metadata": {},
   "source": [
    "### 3.2.3gender"
   ]
  },
  {
   "cell_type": "code",
   "execution_count": 39,
   "metadata": {},
   "outputs": [
    {
     "data": {
      "text/plain": [
       "array(['Male', 'Female', nan], dtype=object)"
      ]
     },
     "execution_count": 39,
     "metadata": {},
     "output_type": "execute_result"
    }
   ],
   "source": [
    "mb.gender.unique()\n",
    "#其中存在空值，需进行填充"
   ]
  },
  {
   "cell_type": "code",
   "execution_count": 40,
   "metadata": {},
   "outputs": [],
   "source": [
    "mb['gender'] = mb['gender'].fillna('Unknown')"
   ]
  },
  {
   "cell_type": "markdown",
   "metadata": {},
   "source": [
    "## 3.3 日期型数据处理"
   ]
  },
  {
   "cell_type": "markdown",
   "metadata": {},
   "source": [
    "### 3.3.1start_time"
   ]
  },
  {
   "cell_type": "markdown",
   "metadata": {},
   "source": [
    "- 首先需要把变量转化为日期型数据"
   ]
  },
  {
   "cell_type": "code",
   "execution_count": 41,
   "metadata": {},
   "outputs": [],
   "source": [
    "mb['start_time']= pd.to_datetime(mb['start_time'])"
   ]
  },
  {
   "cell_type": "code",
   "execution_count": 42,
   "metadata": {},
   "outputs": [
    {
     "data": {
      "text/plain": [
       "array([2018], dtype=int64)"
      ]
     },
     "execution_count": 42,
     "metadata": {},
     "output_type": "execute_result"
    }
   ],
   "source": [
    "mb['start_time'].dt.year.unique()\n",
    "#数据都是2018年的"
   ]
  },
  {
   "cell_type": "code",
   "execution_count": 43,
   "metadata": {},
   "outputs": [
    {
     "data": {
      "text/plain": [
       "array([11, 12, 10], dtype=int64)"
      ]
     },
     "execution_count": 43,
     "metadata": {},
     "output_type": "execute_result"
    }
   ],
   "source": [
    "mb['start_time'].dt.month.unique()\n",
    "#数据分布于10,11,12三个月份"
   ]
  },
  {
   "cell_type": "markdown",
   "metadata": {},
   "source": [
    "### 3.3.2end_time"
   ]
  },
  {
   "cell_type": "markdown",
   "metadata": {},
   "source": [
    "- 有了开始时间和持续时间，结束时间多余，直接删除"
   ]
  },
  {
   "cell_type": "code",
   "execution_count": 44,
   "metadata": {},
   "outputs": [],
   "source": [
    "mb=mb.drop(['end_time'],axis=1)"
   ]
  },
  {
   "cell_type": "code",
   "execution_count": 45,
   "metadata": {},
   "outputs": [
    {
     "name": "stdout",
     "output_type": "stream",
     "text": [
      "<class 'pandas.core.frame.DataFrame'>\n",
      "Int64Index: 5853 entries, 439283 to 278179\n",
      "Data columns (total 8 columns):\n",
      " #   Column           Non-Null Count  Dtype         \n",
      "---  ------           --------------  -----         \n",
      " 0   start_time       5853 non-null   datetime64[ns]\n",
      " 1   timeduration     5853 non-null   int64         \n",
      " 2   tripduration     5853 non-null   int32         \n",
      " 3   from_station_id  5853 non-null   int64         \n",
      " 4   to_station_id    5853 non-null   int64         \n",
      " 5   usertype         5853 non-null   object        \n",
      " 6   gender           5853 non-null   object        \n",
      " 7   age              5853 non-null   int32         \n",
      "dtypes: datetime64[ns](1), int32(2), int64(3), object(2)\n",
      "memory usage: 365.8+ KB\n"
     ]
    }
   ],
   "source": [
    "#结束数据处理，概览查看\n",
    "mb.info()"
   ]
  },
  {
   "cell_type": "markdown",
   "metadata": {},
   "source": [
    "# 4可视化分析"
   ]
  },
  {
   "cell_type": "markdown",
   "metadata": {},
   "source": [
    "## 4.1单变量分析"
   ]
  },
  {
   "cell_type": "markdown",
   "metadata": {},
   "source": [
    "### 4.1.1timeduration"
   ]
  },
  {
   "cell_type": "code",
   "execution_count": 46,
   "metadata": {},
   "outputs": [
    {
     "data": {
      "image/png": "[encoded data removed]",
      "text/plain": [
       "<Figure size 432x288 with 1 Axes>"
      ]
     },
     "metadata": {
      "needs_background": "light"
     },
     "output_type": "display_data"
    }
   ],
   "source": [
    "mb['timeduration'].plot(kind='hist');\n",
    "#可以看出最常见的骑行时长集中在5-10分钟的较短时长，超过15分钟的占比都较少"
   ]
  },
  {
   "cell_type": "markdown",
   "metadata": {},
   "source": [
    "### 4.1.2tripduration"
   ]
  },
  {
   "cell_type": "code",
   "execution_count": 47,
   "metadata": {},
   "outputs": [
    {
     "data": {
      "image/png": "[encoded data removed]",
      "text/plain": [
       "<Figure size 432x288 with 1 Axes>"
      ]
     },
     "metadata": {
      "needs_background": "light"
     },
     "output_type": "display_data"
    }
   ],
   "source": [
    "mb['tripduration'].plot(kind='hist');\n",
    "#骑行距离的分布图与骑行时长很像，250m-520m左右是最常见的骑行距离，超过1000m的都较少"
   ]
  },
  {
   "cell_type": "markdown",
   "metadata": {},
   "source": [
    "### 4.1.3age"
   ]
  },
  {
   "cell_type": "code",
   "execution_count": 48,
   "metadata": {},
   "outputs": [
    {
     "data": {
      "image/png": "[encoded data removed]",
      "text/plain": [
       "<Figure size 432x288 with 1 Axes>"
      ]
     },
     "metadata": {
      "needs_background": "light"
     },
     "output_type": "display_data"
    }
   ],
   "source": [
    "mb['age'].plot(kind='hist',color='orange');\n",
    "#年龄在22-35之间的客户使用摩拜骑行的最多"
   ]
  },
  {
   "cell_type": "markdown",
   "metadata": {},
   "source": [
    "### 4.1.4usertype"
   ]
  },
  {
   "cell_type": "code",
   "execution_count": 49,
   "metadata": {},
   "outputs": [
    {
     "data": {
      "image/png": "[encoded data removed]",
      "text/plain": [
       "<Figure size 432x288 with 1 Axes>"
      ]
     },
     "metadata": {},
     "output_type": "display_data"
    }
   ],
   "source": [
    "labels = 'Subscriber', 'Customer'\n",
    "explode = (0.2, 0)  #设置‘Customer’凸显，间距为0.2\n",
    "fig1, ax1 = plt.subplots()\n",
    "ax1.pie(mb['usertype'].value_counts(),explode=explode,labels=labels,autopct='%1.1f%%',shadow=True, startangle=90)#autopct对输出进行格式化，startangle为起始角度，一般设置为90比较好看\n",
    "ax1.axis('equal');#保证为正圆"
   ]
  },
  {
   "cell_type": "markdown",
   "metadata": {},
   "source": [
    "- 92.7%都是订阅者，有利于客户的留存，即下次使用"
   ]
  },
  {
   "cell_type": "markdown",
   "metadata": {},
   "source": [
    "### 4.1.5gender"
   ]
  },
  {
   "cell_type": "code",
   "execution_count": 50,
   "metadata": {},
   "outputs": [
    {
     "data": {
      "image/png": "[encoded data removed]",
      "text/plain": [
       "<Figure size 432x288 with 1 Axes>"
      ]
     },
     "metadata": {},
     "output_type": "display_data"
    }
   ],
   "source": [
    "labels = 'Male', 'Female','Unknown'\n",
    "explode = (0, 0.2, 0)  #设置‘Female’凸显，间距为0.2\n",
    "fig1, ax1 = plt.subplots()\n",
    "ax1.pie(mb['gender'].value_counts(),explode=explode,labels=labels,autopct='%1.1f%%',shadow=True, startangle=90)#autopct对输出进行格式化，startangle为起始角度，一般设置为90比较好看\n",
    "ax1.axis('equal');#保证为正圆"
   ]
  },
  {
   "cell_type": "markdown",
   "metadata": {},
   "source": [
    "### 4.1.6start_time"
   ]
  },
  {
   "cell_type": "code",
   "execution_count": 51,
   "metadata": {},
   "outputs": [],
   "source": [
    "#先根据start_time生成有用的时间变量\n",
    "mb['month'] = mb['start_time'].dt.month\n",
    "mb['dayofweek'] = mb['start_time'].dt.dayofweek\n",
    "mb['hour'] = mb['start_time'].dt.hour"
   ]
  },
  {
   "cell_type": "code",
   "execution_count": 52,
   "metadata": {},
   "outputs": [
    {
     "data": {
      "image/png": "[encoded data removed]",
      "text/plain": [
       "<Figure size 432x288 with 1 Axes>"
      ]
     },
     "metadata": {
      "needs_background": "light"
     },
     "output_type": "display_data"
    }
   ],
   "source": [
    "mb['month'].value_counts().sort_index().plot(kind='bar',color='grey');"
   ]
  },
  {
   "cell_type": "code",
   "execution_count": 53,
   "metadata": {},
   "outputs": [
    {
     "data": {
      "text/plain": [
       "<matplotlib.axes._subplots.AxesSubplot at 0x1a6b8cbb148>"
      ]
     },
     "execution_count": 53,
     "metadata": {},
     "output_type": "execute_result"
    },
    {
     "data": {
      "image/png": "[encoded data removed]",
      "text/plain": [
       "<Figure size 432x288 with 1 Axes>"
      ]
     },
     "metadata": {
      "needs_background": "light"
     },
     "output_type": "display_data"
    }
   ],
   "source": [
    "mb['dayofweek'].value_counts().sort_index().plot(kind='bar',color='green')"
   ]
  },
  {
   "cell_type": "code",
   "execution_count": 54,
   "metadata": {},
   "outputs": [
    {
     "data": {
      "image/png": "[encoded data removed]",
      "text/plain": [
       "<Figure size 432x288 with 1 Axes>"
      ]
     },
     "metadata": {
      "needs_background": "light"
     },
     "output_type": "display_data"
    }
   ],
   "source": [
    "a=mb.hour.unique()\n",
    "b=np.sort(a)\n",
    "mb['hour'].value_counts().sort_index().plot(kind='line',color='red',title='Numbers of riding per hour');\n",
    "order=list(b)\n",
    "plt.xticks(np.arange(len(order)),order);"
   ]
  },
  {
   "cell_type": "markdown",
   "metadata": {},
   "source": [
    "- 从时间来看，其中10月份骑行次数最多，12月最少，可能与天气变冷有关也可能与假期有关，需进一步探讨\n",
    "- 工作日周一到周日的骑行次数最多，而周末有所减少\n",
    "- 从时间段来看，集中在早高峰晚高峰的骑行人数最多，上午7.8时，下午16.17.18时，摩拜需保证单车充足的供应量"
   ]
  },
  {
   "cell_type": "markdown",
   "metadata": {},
   "source": [
    "## 4.2 多变量分析"
   ]
  },
  {
   "cell_type": "code",
   "execution_count": 55,
   "metadata": {},
   "outputs": [],
   "source": [
    "tmp = pd.DataFrame(mb.groupby(['dayofweek','gender'])['hour'].count()).reset_index()"
   ]
  },
  {
   "cell_type": "code",
   "execution_count": 56,
   "metadata": {},
   "outputs": [],
   "source": [
    "tmp = tmp.rename(columns={'hour':'count'})"
   ]
  },
  {
   "cell_type": "code",
   "execution_count": 57,
   "metadata": {},
   "outputs": [
    {
     "data": {
      "image/png": "[encoded data removed]",
      "text/plain": [
       "<Figure size 432x288 with 1 Axes>"
      ]
     },
     "metadata": {
      "needs_background": "light"
     },
     "output_type": "display_data"
    }
   ],
   "source": [
    "sns.barplot(x='dayofweek',hue='gender',y='count',data=tmp);"
   ]
  },
  {
   "cell_type": "markdown",
   "metadata": {},
   "source": [
    "- 男性女性都是工作日骑行人数多于周末，但Unknown确实周末骑行人数多于工作日"
   ]
  },
  {
   "cell_type": "markdown",
   "metadata": {},
   "source": [
    "# 5建模"
   ]
  },
  {
   "cell_type": "code",
   "execution_count": 58,
   "metadata": {},
   "outputs": [],
   "source": [
    "#调包\n",
    "from sklearn.cluster import KMeans\n",
    "from sklearn.metrics import silhouette_score"
   ]
  },
  {
   "cell_type": "code",
   "execution_count": 59,
   "metadata": {},
   "outputs": [
    {
     "data": {
      "text/html": [
       "<div>\n",
       "<style scoped>\n",
       "    .dataframe tbody tr th:only-of-type {\n",
       "        vertical-align: middle;\n",
       "    }\n",
       "\n",
       "    .dataframe tbody tr th {\n",
       "        vertical-align: top;\n",
       "    }\n",
       "\n",
       "    .dataframe thead th {\n",
       "        text-align: right;\n",
       "    }\n",
       "</style>\n",
       "<table border=\"1\" class=\"dataframe\">\n",
       "  <thead>\n",
       "    <tr style=\"text-align: right;\">\n",
       "      <th></th>\n",
       "      <th>start_time</th>\n",
       "      <th>timeduration</th>\n",
       "      <th>tripduration</th>\n",
       "      <th>from_station_id</th>\n",
       "      <th>to_station_id</th>\n",
       "      <th>usertype</th>\n",
       "      <th>gender</th>\n",
       "      <th>age</th>\n",
       "      <th>month</th>\n",
       "      <th>dayofweek</th>\n",
       "      <th>hour</th>\n",
       "    </tr>\n",
       "  </thead>\n",
       "  <tbody>\n",
       "    <tr>\n",
       "      <th>439283</th>\n",
       "      <td>2018-11-14 07:37:00</td>\n",
       "      <td>7</td>\n",
       "      <td>436</td>\n",
       "      <td>319</td>\n",
       "      <td>67</td>\n",
       "      <td>Subscriber</td>\n",
       "      <td>Male</td>\n",
       "      <td>37</td>\n",
       "      <td>11</td>\n",
       "      <td>2</td>\n",
       "      <td>7</td>\n",
       "    </tr>\n",
       "    <tr>\n",
       "      <th>603317</th>\n",
       "      <td>2018-12-18 19:02:00</td>\n",
       "      <td>7</td>\n",
       "      <td>445</td>\n",
       "      <td>164</td>\n",
       "      <td>195</td>\n",
       "      <td>Subscriber</td>\n",
       "      <td>Male</td>\n",
       "      <td>31</td>\n",
       "      <td>12</td>\n",
       "      <td>1</td>\n",
       "      <td>19</td>\n",
       "    </tr>\n",
       "    <tr>\n",
       "      <th>109957</th>\n",
       "      <td>2018-10-09 12:37:00</td>\n",
       "      <td>18</td>\n",
       "      <td>1090</td>\n",
       "      <td>163</td>\n",
       "      <td>69</td>\n",
       "      <td>Customer</td>\n",
       "      <td>Male</td>\n",
       "      <td>30</td>\n",
       "      <td>10</td>\n",
       "      <td>1</td>\n",
       "      <td>12</td>\n",
       "    </tr>\n",
       "    <tr>\n",
       "      <th>428082</th>\n",
       "      <td>2018-11-12 12:30:00</td>\n",
       "      <td>9</td>\n",
       "      <td>581</td>\n",
       "      <td>226</td>\n",
       "      <td>308</td>\n",
       "      <td>Subscriber</td>\n",
       "      <td>Female</td>\n",
       "      <td>30</td>\n",
       "      <td>11</td>\n",
       "      <td>0</td>\n",
       "      <td>12</td>\n",
       "    </tr>\n",
       "    <tr>\n",
       "      <th>395437</th>\n",
       "      <td>2018-11-07 07:29:00</td>\n",
       "      <td>6</td>\n",
       "      <td>390</td>\n",
       "      <td>77</td>\n",
       "      <td>621</td>\n",
       "      <td>Subscriber</td>\n",
       "      <td>Male</td>\n",
       "      <td>40</td>\n",
       "      <td>11</td>\n",
       "      <td>2</td>\n",
       "      <td>7</td>\n",
       "    </tr>\n",
       "  </tbody>\n",
       "</table>\n",
       "</div>"
      ],
      "text/plain": [
       "                start_time  timeduration  tripduration  from_station_id  \\\n",
       "439283 2018-11-14 07:37:00             7           436              319   \n",
       "603317 2018-12-18 19:02:00             7           445              164   \n",
       "109957 2018-10-09 12:37:00            18          1090              163   \n",
       "428082 2018-11-12 12:30:00             9           581              226   \n",
       "395437 2018-11-07 07:29:00             6           390               77   \n",
       "\n",
       "        to_station_id    usertype  gender  age  month  dayofweek  hour  \n",
       "439283             67  Subscriber    Male   37     11          2     7  \n",
       "603317            195  Subscriber    Male   31     12          1    19  \n",
       "109957             69    Customer    Male   30     10          1    12  \n",
       "428082            308  Subscriber  Female   30     11          0    12  \n",
       "395437            621  Subscriber    Male   40     11          2     7  "
      ]
     },
     "execution_count": 59,
     "metadata": {},
     "output_type": "execute_result"
    }
   ],
   "source": [
    "mb.head()"
   ]
  },
  {
   "cell_type": "code",
   "execution_count": 60,
   "metadata": {},
   "outputs": [],
   "source": [
    "mb= mb.drop(['from_station_id','to_station_id','start_time'],axis=1)"
   ]
  },
  {
   "cell_type": "code",
   "execution_count": 61,
   "metadata": {},
   "outputs": [],
   "source": [
    "#转换哑变量\n",
    "mb1 = pd.get_dummies(mb,drop_first=True)"
   ]
  },
  {
   "cell_type": "code",
   "execution_count": 62,
   "metadata": {},
   "outputs": [
    {
     "data": {
      "text/html": [
       "<div>\n",
       "<style scoped>\n",
       "    .dataframe tbody tr th:only-of-type {\n",
       "        vertical-align: middle;\n",
       "    }\n",
       "\n",
       "    .dataframe tbody tr th {\n",
       "        vertical-align: top;\n",
       "    }\n",
       "\n",
       "    .dataframe thead th {\n",
       "        text-align: right;\n",
       "    }\n",
       "</style>\n",
       "<table border=\"1\" class=\"dataframe\">\n",
       "  <thead>\n",
       "    <tr style=\"text-align: right;\">\n",
       "      <th></th>\n",
       "      <th>timeduration</th>\n",
       "      <th>tripduration</th>\n",
       "      <th>age</th>\n",
       "      <th>month</th>\n",
       "      <th>dayofweek</th>\n",
       "      <th>hour</th>\n",
       "      <th>usertype_Subscriber</th>\n",
       "      <th>gender_Male</th>\n",
       "      <th>gender_Unknown</th>\n",
       "    </tr>\n",
       "  </thead>\n",
       "  <tbody>\n",
       "    <tr>\n",
       "      <th>439283</th>\n",
       "      <td>7</td>\n",
       "      <td>436</td>\n",
       "      <td>37</td>\n",
       "      <td>11</td>\n",
       "      <td>2</td>\n",
       "      <td>7</td>\n",
       "      <td>1</td>\n",
       "      <td>1</td>\n",
       "      <td>0</td>\n",
       "    </tr>\n",
       "    <tr>\n",
       "      <th>603317</th>\n",
       "      <td>7</td>\n",
       "      <td>445</td>\n",
       "      <td>31</td>\n",
       "      <td>12</td>\n",
       "      <td>1</td>\n",
       "      <td>19</td>\n",
       "      <td>1</td>\n",
       "      <td>1</td>\n",
       "      <td>0</td>\n",
       "    </tr>\n",
       "    <tr>\n",
       "      <th>109957</th>\n",
       "      <td>18</td>\n",
       "      <td>1090</td>\n",
       "      <td>30</td>\n",
       "      <td>10</td>\n",
       "      <td>1</td>\n",
       "      <td>12</td>\n",
       "      <td>0</td>\n",
       "      <td>1</td>\n",
       "      <td>0</td>\n",
       "    </tr>\n",
       "    <tr>\n",
       "      <th>428082</th>\n",
       "      <td>9</td>\n",
       "      <td>581</td>\n",
       "      <td>30</td>\n",
       "      <td>11</td>\n",
       "      <td>0</td>\n",
       "      <td>12</td>\n",
       "      <td>1</td>\n",
       "      <td>0</td>\n",
       "      <td>0</td>\n",
       "    </tr>\n",
       "    <tr>\n",
       "      <th>395437</th>\n",
       "      <td>6</td>\n",
       "      <td>390</td>\n",
       "      <td>40</td>\n",
       "      <td>11</td>\n",
       "      <td>2</td>\n",
       "      <td>7</td>\n",
       "      <td>1</td>\n",
       "      <td>1</td>\n",
       "      <td>0</td>\n",
       "    </tr>\n",
       "  </tbody>\n",
       "</table>\n",
       "</div>"
      ],
      "text/plain": [
       "        timeduration  tripduration  age  month  dayofweek  hour  \\\n",
       "439283             7           436   37     11          2     7   \n",
       "603317             7           445   31     12          1    19   \n",
       "109957            18          1090   30     10          1    12   \n",
       "428082             9           581   30     11          0    12   \n",
       "395437             6           390   40     11          2     7   \n",
       "\n",
       "        usertype_Subscriber  gender_Male  gender_Unknown  \n",
       "439283                    1            1               0  \n",
       "603317                    1            1               0  \n",
       "109957                    0            1               0  \n",
       "428082                    1            0               0  \n",
       "395437                    1            1               0  "
      ]
     },
     "execution_count": 62,
     "metadata": {},
     "output_type": "execute_result"
    }
   ],
   "source": [
    "mb1.head()"
   ]
  },
  {
   "cell_type": "code",
   "execution_count": 63,
   "metadata": {},
   "outputs": [],
   "source": [
    "scores = []\n",
    "centers = list(range(2,15))\n",
    "\n",
    "for center in centers:\n",
    "    kmeans = KMeans(n_clusters=center)\n",
    "    model = kmeans.fit(mb1)\n",
    "    label = model.predict(mb1)\n",
    "    score = silhouette_score(mb1,label)#,sample_size=4000\n",
    "    scores.append(score)\n"
   ]
  },
  {
   "cell_type": "code",
   "execution_count": 64,
   "metadata": {},
   "outputs": [
    {
     "data": {
      "image/png": "[encoded data removed]",
      "text/plain": [
       "<Figure size 432x288 with 1 Axes>"
      ]
     },
     "metadata": {
      "needs_background": "light"
     },
     "output_type": "display_data"
    }
   ],
   "source": [
    "plt.plot(centers, scores, linestyle='--', marker='o', color='red');\n",
    "plt.xlabel('N_Cluster');\n",
    "plt.ylabel('Silhouette Score');\n",
    "plt.title('Silhouette Score vs. N_Cluster');"
   ]
  },
  {
   "cell_type": "markdown",
   "metadata": {},
   "source": [
    "## 6.优化"
   ]
  },
  {
   "cell_type": "code",
   "execution_count": 80,
   "metadata": {},
   "outputs": [],
   "source": [
    "mb2= mb"
   ]
  },
  {
   "cell_type": "code",
   "execution_count": 81,
   "metadata": {},
   "outputs": [
    {
     "data": {
      "text/plain": [
       "30-50    0.519050\n",
       "<30      0.365112\n",
       ">50      0.115838\n",
       "Name: age, dtype: float64"
      ]
     },
     "execution_count": 81,
     "metadata": {},
     "output_type": "execute_result"
    }
   ],
   "source": [
    "#将年龄，骑行时间，骑行距离等分组\n",
    "bins=[0,30,50,63]\n",
    "labels=['<30','30-50','>50']\n",
    "mb2['age']=pd.cut(mb2.age, bins, right=True,labels=labels)\n",
    "mb2['age'].value_counts(1)"
   ]
  },
  {
   "cell_type": "code",
   "execution_count": 82,
   "metadata": {},
   "outputs": [
    {
     "data": {
      "text/plain": [
       "5-10     0.345122\n",
       "<5       0.285836\n",
       "10-15    0.188109\n",
       ">15      0.180933\n",
       "Name: timeduration, dtype: float64"
      ]
     },
     "execution_count": 82,
     "metadata": {},
     "output_type": "execute_result"
    }
   ],
   "source": [
    "bins=[0,5,10,15,60]\n",
    "labels=['<5','5-10','10-15','>15']\n",
    "mb2['timeduration']=pd.cut(mb2.timeduration, bins, right=True,labels=labels)\n",
    "mb2['timeduration'].value_counts(1)"
   ]
  },
  {
   "cell_type": "code",
   "execution_count": 83,
   "metadata": {},
   "outputs": [
    {
     "data": {
      "text/plain": [
       "500-1000    0.362549\n",
       "250-500     0.343584\n",
       ">1000       0.162652\n",
       "<250        0.131215\n",
       "Name: tripduration, dtype: float64"
      ]
     },
     "execution_count": 83,
     "metadata": {},
     "output_type": "execute_result"
    }
   ],
   "source": [
    "bins=[0,250,500,1000,1806]\n",
    "labels=['<250','250-500','500-1000','>1000']\n",
    "mb2['tripduration']=pd.cut(mb2.tripduration, bins, right=True,labels=labels)\n",
    "mb2['tripduration'].value_counts(1)"
   ]
  },
  {
   "cell_type": "code",
   "execution_count": 84,
   "metadata": {},
   "outputs": [],
   "source": [
    "#转换哑变量\n",
    "mb2 = pd.get_dummies(mb2,drop_first=True)"
   ]
  },
  {
   "cell_type": "code",
   "execution_count": 85,
   "metadata": {},
   "outputs": [
    {
     "data": {
      "text/html": [
       "<div>\n",
       "<style scoped>\n",
       "    .dataframe tbody tr th:only-of-type {\n",
       "        vertical-align: middle;\n",
       "    }\n",
       "\n",
       "    .dataframe tbody tr th {\n",
       "        vertical-align: top;\n",
       "    }\n",
       "\n",
       "    .dataframe thead th {\n",
       "        text-align: right;\n",
       "    }\n",
       "</style>\n",
       "<table border=\"1\" class=\"dataframe\">\n",
       "  <thead>\n",
       "    <tr style=\"text-align: right;\">\n",
       "      <th></th>\n",
       "      <th>month</th>\n",
       "      <th>dayofweek</th>\n",
       "      <th>hour</th>\n",
       "      <th>timeduration_5-10</th>\n",
       "      <th>timeduration_10-15</th>\n",
       "      <th>timeduration_&gt;15</th>\n",
       "      <th>tripduration_250-500</th>\n",
       "      <th>tripduration_500-1000</th>\n",
       "      <th>tripduration_&gt;1000</th>\n",
       "      <th>usertype_Subscriber</th>\n",
       "      <th>gender_Male</th>\n",
       "      <th>gender_Unknown</th>\n",
       "      <th>age_30-50</th>\n",
       "      <th>age_&gt;50</th>\n",
       "    </tr>\n",
       "  </thead>\n",
       "  <tbody>\n",
       "    <tr>\n",
       "      <th>439283</th>\n",
       "      <td>11</td>\n",
       "      <td>2</td>\n",
       "      <td>7</td>\n",
       "      <td>1</td>\n",
       "      <td>0</td>\n",
       "      <td>0</td>\n",
       "      <td>1</td>\n",
       "      <td>0</td>\n",
       "      <td>0</td>\n",
       "      <td>1</td>\n",
       "      <td>1</td>\n",
       "      <td>0</td>\n",
       "      <td>1</td>\n",
       "      <td>0</td>\n",
       "    </tr>\n",
       "    <tr>\n",
       "      <th>603317</th>\n",
       "      <td>12</td>\n",
       "      <td>1</td>\n",
       "      <td>19</td>\n",
       "      <td>1</td>\n",
       "      <td>0</td>\n",
       "      <td>0</td>\n",
       "      <td>1</td>\n",
       "      <td>0</td>\n",
       "      <td>0</td>\n",
       "      <td>1</td>\n",
       "      <td>1</td>\n",
       "      <td>0</td>\n",
       "      <td>1</td>\n",
       "      <td>0</td>\n",
       "    </tr>\n",
       "    <tr>\n",
       "      <th>109957</th>\n",
       "      <td>10</td>\n",
       "      <td>1</td>\n",
       "      <td>12</td>\n",
       "      <td>0</td>\n",
       "      <td>0</td>\n",
       "      <td>1</td>\n",
       "      <td>0</td>\n",
       "      <td>0</td>\n",
       "      <td>1</td>\n",
       "      <td>0</td>\n",
       "      <td>1</td>\n",
       "      <td>0</td>\n",
       "      <td>0</td>\n",
       "      <td>0</td>\n",
       "    </tr>\n",
       "    <tr>\n",
       "      <th>428082</th>\n",
       "      <td>11</td>\n",
       "      <td>0</td>\n",
       "      <td>12</td>\n",
       "      <td>1</td>\n",
       "      <td>0</td>\n",
       "      <td>0</td>\n",
       "      <td>0</td>\n",
       "      <td>1</td>\n",
       "      <td>0</td>\n",
       "      <td>1</td>\n",
       "      <td>0</td>\n",
       "      <td>0</td>\n",
       "      <td>0</td>\n",
       "      <td>0</td>\n",
       "    </tr>\n",
       "    <tr>\n",
       "      <th>395437</th>\n",
       "      <td>11</td>\n",
       "      <td>2</td>\n",
       "      <td>7</td>\n",
       "      <td>1</td>\n",
       "      <td>0</td>\n",
       "      <td>0</td>\n",
       "      <td>1</td>\n",
       "      <td>0</td>\n",
       "      <td>0</td>\n",
       "      <td>1</td>\n",
       "      <td>1</td>\n",
       "      <td>0</td>\n",
       "      <td>1</td>\n",
       "      <td>0</td>\n",
       "    </tr>\n",
       "  </tbody>\n",
       "</table>\n",
       "</div>"
      ],
      "text/plain": [
       "        month  dayofweek  hour  timeduration_5-10  timeduration_10-15  \\\n",
       "439283     11          2     7                  1                   0   \n",
       "603317     12          1    19                  1                   0   \n",
       "109957     10          1    12                  0                   0   \n",
       "428082     11          0    12                  1                   0   \n",
       "395437     11          2     7                  1                   0   \n",
       "\n",
       "        timeduration_>15  tripduration_250-500  tripduration_500-1000  \\\n",
       "439283                 0                     1                      0   \n",
       "603317                 0                     1                      0   \n",
       "109957                 1                     0                      0   \n",
       "428082                 0                     0                      1   \n",
       "395437                 0                     1                      0   \n",
       "\n",
       "        tripduration_>1000  usertype_Subscriber  gender_Male  gender_Unknown  \\\n",
       "439283                   0                    1            1               0   \n",
       "603317                   0                    1            1               0   \n",
       "109957                   1                    0            1               0   \n",
       "428082                   0                    1            0               0   \n",
       "395437                   0                    1            1               0   \n",
       "\n",
       "        age_30-50  age_>50  \n",
       "439283          1        0  \n",
       "603317          1        0  \n",
       "109957          0        0  \n",
       "428082          0        0  \n",
       "395437          1        0  "
      ]
     },
     "execution_count": 85,
     "metadata": {},
     "output_type": "execute_result"
    }
   ],
   "source": [
    "mb2.head()"
   ]
  },
  {
   "cell_type": "code",
   "execution_count": 86,
   "metadata": {},
   "outputs": [],
   "source": [
    "scores = []\n",
    "centers = list(range(2,10))\n",
    "\n",
    "for center in centers:\n",
    "    kmeans = KMeans(n_clusters=center)\n",
    "    model = kmeans.fit(mb2)\n",
    "    label = model.predict(mb2)\n",
    "    score = silhouette_score(mb2,label)#,sample_size=4000\n",
    "    scores.append(score)"
   ]
  },
  {
   "cell_type": "code",
   "execution_count": 87,
   "metadata": {},
   "outputs": [
    {
     "data": {
      "image/png": "[encoded data removed]",
      "text/plain": [
       "<Figure size 432x288 with 1 Axes>"
      ]
     },
     "metadata": {
      "needs_background": "light"
     },
     "output_type": "display_data"
    }
   ],
   "source": [
    "plt.plot(centers, scores, linestyle='--', marker='o', color='b');\n",
    "plt.xlabel('N_Cluster');\n",
    "plt.ylabel('Silhouette Score');\n",
    "plt.title('Silhouette Score vs. N_Cluster');"
   ]
  },
  {
   "cell_type": "code",
   "execution_count": 65,
   "metadata": {},
   "outputs": [],
   "source": [
    "#将timeduration的离群值处理\n",
    "mb3= mb.drop(['hour','month'],axis=1)"
   ]
  },
  {
   "cell_type": "code",
   "execution_count": 66,
   "metadata": {},
   "outputs": [
    {
     "name": "stdout",
     "output_type": "stream",
     "text": [
      "25.0\n"
     ]
    }
   ],
   "source": [
    "IQR2=mb3['timeduration'].quantile(.75)-mb3['timeduration'].quantile(.25)\n",
    "MAX2=mb3['timeduration'].quantile(.75)+ 1.5* IQR2\n",
    "print(MAX2)"
   ]
  },
  {
   "cell_type": "code",
   "execution_count": 67,
   "metadata": {},
   "outputs": [],
   "source": [
    "mb3=mb3[mb3['timeduration']<25]"
   ]
  },
  {
   "cell_type": "code",
   "execution_count": 68,
   "metadata": {},
   "outputs": [],
   "source": [
    "mb3 = pd.get_dummies(mb3,drop_first=True)"
   ]
  },
  {
   "cell_type": "code",
   "execution_count": 69,
   "metadata": {},
   "outputs": [
    {
     "data": {
      "text/html": [
       "<div>\n",
       "<style scoped>\n",
       "    .dataframe tbody tr th:only-of-type {\n",
       "        vertical-align: middle;\n",
       "    }\n",
       "\n",
       "    .dataframe tbody tr th {\n",
       "        vertical-align: top;\n",
       "    }\n",
       "\n",
       "    .dataframe thead th {\n",
       "        text-align: right;\n",
       "    }\n",
       "</style>\n",
       "<table border=\"1\" class=\"dataframe\">\n",
       "  <thead>\n",
       "    <tr style=\"text-align: right;\">\n",
       "      <th></th>\n",
       "      <th>timeduration</th>\n",
       "      <th>tripduration</th>\n",
       "      <th>age</th>\n",
       "      <th>dayofweek</th>\n",
       "      <th>usertype_Subscriber</th>\n",
       "      <th>gender_Male</th>\n",
       "      <th>gender_Unknown</th>\n",
       "    </tr>\n",
       "  </thead>\n",
       "  <tbody>\n",
       "    <tr>\n",
       "      <th>439283</th>\n",
       "      <td>7</td>\n",
       "      <td>436</td>\n",
       "      <td>37</td>\n",
       "      <td>2</td>\n",
       "      <td>1</td>\n",
       "      <td>1</td>\n",
       "      <td>0</td>\n",
       "    </tr>\n",
       "    <tr>\n",
       "      <th>603317</th>\n",
       "      <td>7</td>\n",
       "      <td>445</td>\n",
       "      <td>31</td>\n",
       "      <td>1</td>\n",
       "      <td>1</td>\n",
       "      <td>1</td>\n",
       "      <td>0</td>\n",
       "    </tr>\n",
       "    <tr>\n",
       "      <th>109957</th>\n",
       "      <td>18</td>\n",
       "      <td>1090</td>\n",
       "      <td>30</td>\n",
       "      <td>1</td>\n",
       "      <td>0</td>\n",
       "      <td>1</td>\n",
       "      <td>0</td>\n",
       "    </tr>\n",
       "    <tr>\n",
       "      <th>428082</th>\n",
       "      <td>9</td>\n",
       "      <td>581</td>\n",
       "      <td>30</td>\n",
       "      <td>0</td>\n",
       "      <td>1</td>\n",
       "      <td>0</td>\n",
       "      <td>0</td>\n",
       "    </tr>\n",
       "    <tr>\n",
       "      <th>395437</th>\n",
       "      <td>6</td>\n",
       "      <td>390</td>\n",
       "      <td>40</td>\n",
       "      <td>2</td>\n",
       "      <td>1</td>\n",
       "      <td>1</td>\n",
       "      <td>0</td>\n",
       "    </tr>\n",
       "  </tbody>\n",
       "</table>\n",
       "</div>"
      ],
      "text/plain": [
       "        timeduration  tripduration  age  dayofweek  usertype_Subscriber  \\\n",
       "439283             7           436   37          2                    1   \n",
       "603317             7           445   31          1                    1   \n",
       "109957            18          1090   30          1                    0   \n",
       "428082             9           581   30          0                    1   \n",
       "395437             6           390   40          2                    1   \n",
       "\n",
       "        gender_Male  gender_Unknown  \n",
       "439283            1               0  \n",
       "603317            1               0  \n",
       "109957            1               0  \n",
       "428082            0               0  \n",
       "395437            1               0  "
      ]
     },
     "execution_count": 69,
     "metadata": {},
     "output_type": "execute_result"
    }
   ],
   "source": [
    "mb3.head()"
   ]
  },
  {
   "cell_type": "code",
   "execution_count": 70,
   "metadata": {},
   "outputs": [],
   "source": [
    "scores = []\n",
    "centers = list(range(2,10))\n",
    "\n",
    "for center in centers:\n",
    "    kmeans = KMeans(n_clusters=center)\n",
    "    model = kmeans.fit(mb3)\n",
    "    label = model.predict(mb3)\n",
    "    score = silhouette_score(mb3,label)#,sample_size=4000\n",
    "    scores.append(score)"
   ]
  },
  {
   "cell_type": "code",
   "execution_count": 71,
   "metadata": {},
   "outputs": [
    {
     "data": {
      "image/png": "[encoded data removed]",
      "text/plain": [
       "<Figure size 432x288 with 1 Axes>"
      ]
     },
     "metadata": {
      "needs_background": "light"
     },
     "output_type": "display_data"
    }
   ],
   "source": [
    "plt.plot(centers, scores, linestyle='--', marker='o', color='y');\n",
    "plt.xlabel('N_Cluster');\n",
    "plt.ylabel('Silhouette Score');\n",
    "plt.title('Silhouette Score vs. N_Cluster');\n",
    "#评分变低，效果变差，不取"
   ]
  },
  {
   "cell_type": "code",
   "execution_count": 72,
   "metadata": {},
   "outputs": [],
   "source": [
    "mb4=pd.get_dummies(mb)"
   ]
  },
  {
   "cell_type": "code",
   "execution_count": 73,
   "metadata": {},
   "outputs": [
    {
     "data": {
      "text/html": [
       "<div>\n",
       "<style scoped>\n",
       "    .dataframe tbody tr th:only-of-type {\n",
       "        vertical-align: middle;\n",
       "    }\n",
       "\n",
       "    .dataframe tbody tr th {\n",
       "        vertical-align: top;\n",
       "    }\n",
       "\n",
       "    .dataframe thead th {\n",
       "        text-align: right;\n",
       "    }\n",
       "</style>\n",
       "<table border=\"1\" class=\"dataframe\">\n",
       "  <thead>\n",
       "    <tr style=\"text-align: right;\">\n",
       "      <th></th>\n",
       "      <th>timeduration</th>\n",
       "      <th>tripduration</th>\n",
       "      <th>age</th>\n",
       "      <th>month</th>\n",
       "      <th>dayofweek</th>\n",
       "      <th>hour</th>\n",
       "      <th>usertype_Customer</th>\n",
       "      <th>usertype_Subscriber</th>\n",
       "      <th>gender_Female</th>\n",
       "      <th>gender_Male</th>\n",
       "      <th>gender_Unknown</th>\n",
       "    </tr>\n",
       "  </thead>\n",
       "  <tbody>\n",
       "    <tr>\n",
       "      <th>439283</th>\n",
       "      <td>7</td>\n",
       "      <td>436</td>\n",
       "      <td>37</td>\n",
       "      <td>11</td>\n",
       "      <td>2</td>\n",
       "      <td>7</td>\n",
       "      <td>0</td>\n",
       "      <td>1</td>\n",
       "      <td>0</td>\n",
       "      <td>1</td>\n",
       "      <td>0</td>\n",
       "    </tr>\n",
       "    <tr>\n",
       "      <th>603317</th>\n",
       "      <td>7</td>\n",
       "      <td>445</td>\n",
       "      <td>31</td>\n",
       "      <td>12</td>\n",
       "      <td>1</td>\n",
       "      <td>19</td>\n",
       "      <td>0</td>\n",
       "      <td>1</td>\n",
       "      <td>0</td>\n",
       "      <td>1</td>\n",
       "      <td>0</td>\n",
       "    </tr>\n",
       "    <tr>\n",
       "      <th>109957</th>\n",
       "      <td>18</td>\n",
       "      <td>1090</td>\n",
       "      <td>30</td>\n",
       "      <td>10</td>\n",
       "      <td>1</td>\n",
       "      <td>12</td>\n",
       "      <td>1</td>\n",
       "      <td>0</td>\n",
       "      <td>0</td>\n",
       "      <td>1</td>\n",
       "      <td>0</td>\n",
       "    </tr>\n",
       "    <tr>\n",
       "      <th>428082</th>\n",
       "      <td>9</td>\n",
       "      <td>581</td>\n",
       "      <td>30</td>\n",
       "      <td>11</td>\n",
       "      <td>0</td>\n",
       "      <td>12</td>\n",
       "      <td>0</td>\n",
       "      <td>1</td>\n",
       "      <td>1</td>\n",
       "      <td>0</td>\n",
       "      <td>0</td>\n",
       "    </tr>\n",
       "    <tr>\n",
       "      <th>395437</th>\n",
       "      <td>6</td>\n",
       "      <td>390</td>\n",
       "      <td>40</td>\n",
       "      <td>11</td>\n",
       "      <td>2</td>\n",
       "      <td>7</td>\n",
       "      <td>0</td>\n",
       "      <td>1</td>\n",
       "      <td>0</td>\n",
       "      <td>1</td>\n",
       "      <td>0</td>\n",
       "    </tr>\n",
       "  </tbody>\n",
       "</table>\n",
       "</div>"
      ],
      "text/plain": [
       "        timeduration  tripduration  age  month  dayofweek  hour  \\\n",
       "439283             7           436   37     11          2     7   \n",
       "603317             7           445   31     12          1    19   \n",
       "109957            18          1090   30     10          1    12   \n",
       "428082             9           581   30     11          0    12   \n",
       "395437             6           390   40     11          2     7   \n",
       "\n",
       "        usertype_Customer  usertype_Subscriber  gender_Female  gender_Male  \\\n",
       "439283                  0                    1              0            1   \n",
       "603317                  0                    1              0            1   \n",
       "109957                  1                    0              0            1   \n",
       "428082                  0                    1              1            0   \n",
       "395437                  0                    1              0            1   \n",
       "\n",
       "        gender_Unknown  \n",
       "439283               0  \n",
       "603317               0  \n",
       "109957               0  \n",
       "428082               0  \n",
       "395437               0  "
      ]
     },
     "execution_count": 73,
     "metadata": {},
     "output_type": "execute_result"
    }
   ],
   "source": [
    "mb4.head()"
   ]
  },
  {
   "cell_type": "code",
   "execution_count": 74,
   "metadata": {},
   "outputs": [],
   "source": [
    "scores = []\n",
    "centers = list(range(2,10))\n",
    "\n",
    "for center in centers:\n",
    "    kmeans = KMeans(n_clusters=center)\n",
    "    model = kmeans.fit(mb4)\n",
    "    label = model.predict(mb4)\n",
    "    score = silhouette_score(mb4,label)#,sample_size=4000\n",
    "    scores.append(score)"
   ]
  },
  {
   "cell_type": "code",
   "execution_count": 75,
   "metadata": {},
   "outputs": [
    {
     "data": {
      "image/png": "[encoded data removed]",
      "text/plain": [
       "<Figure size 432x288 with 1 Axes>"
      ]
     },
     "metadata": {
      "needs_background": "light"
     },
     "output_type": "display_data"
    }
   ],
   "source": [
    "plt.plot(centers, scores, linestyle='--', marker='o', color='y');\n",
    "plt.xlabel('N_Cluster');\n",
    "plt.ylabel('Silhouette Score');\n",
    "plt.title('Silhouette Score vs. N_Cluster');"
   ]
  },
  {
   "cell_type": "markdown",
   "metadata": {},
   "source": [
    "- 多次尝试优化结果并不理想，决定按照最后一种方式构建模型聚类分析\n",
    "- 选择3个群集"
   ]
  },
  {
   "cell_type": "code",
   "execution_count": 76,
   "metadata": {},
   "outputs": [],
   "source": [
    "kmeans_best = KMeans(3)\n",
    "model_best = kmeans_best.fit(mb4)\n",
    "labels_best = model_best.predict(mb4)"
   ]
  },
  {
   "cell_type": "markdown",
   "metadata": {},
   "source": [
    "### 7.业务解读"
   ]
  },
  {
   "cell_type": "code",
   "execution_count": 77,
   "metadata": {},
   "outputs": [],
   "source": [
    "centers1=pd.DataFrame(model_best.cluster_centers_)"
   ]
  },
  {
   "cell_type": "code",
   "execution_count": 78,
   "metadata": {},
   "outputs": [],
   "source": [
    "centers1.to_csv('E:\\小灶数据分析课程\\第八周\\centers_3.csv')"
   ]
  },
  {
   "cell_type": "markdown",
   "metadata": {},
   "source": [
    "- 从excel表得出，分为3个群体，三个群体都聚集于35,36岁，10月份的周二周三以及下午13时左右，区别在于骑行时长，性别，以及是否订阅客户\n",
    "- 第一个群体0是骑行时间较长距离较远，表现出的特征有：骑行时长平均22.2分钟，平均距离长达1362m，这一群体的未订阅客户远高于其他群体，达到21%，未知性别的客户远高于其他群体。\n",
    "- 第三个群体2是骑行时间较短距离较短，表现出的特征有：骑行平均时长仅为5.3分钟，平均骑行距离约347m，这一群体的订阅客户远高于其他群体，且男性客户比例多于其他群体。\n",
    "- 第二个群体1居于上面两个群体中间，骑行平均距离766m，平均用时12分钟。"
   ]
  },
  {
   "cell_type": "code",
   "execution_count": 79,
   "metadata": {},
   "outputs": [
    {
     "data": {
      "text/plain": [
       "<matplotlib.axes._subplots.AxesSubplot at 0x1a6bb2362c8>"
      ]
     },
     "execution_count": 79,
     "metadata": {},
     "output_type": "execute_result"
    },
    {
     "data": {
      "image/png": "[encoded data removed]",
      "text/plain": [
       "<Figure size 432x288 with 1 Axes>"
      ]
     },
     "metadata": {
      "needs_background": "light"
     },
     "output_type": "display_data"
    }
   ],
   "source": [
    "#基于上述分群的结论，想要探索订阅与否客户与骑行时长的关系\n",
    "sns.barplot(x='usertype',y='timeduration',hue='gender',data=mb)"
   ]
  },
  {
   "cell_type": "markdown",
   "metadata": {},
   "source": [
    "- 可以看出未订阅客户的平均骑行时长确实大于订阅客户，可能是由于未购买套餐，1.5元的骑行想要尽量发挥到最大用处\n",
    "- 同时从性别来看，未知性别的客户群体普遍骑行平均时间长于女性客户群体，男性客户群体骑行时间最短"
   ]
  },
  {
   "cell_type": "code",
   "execution_count": null,
   "metadata": {},
   "outputs": [],
   "source": []
  }
 ],
 "metadata": {
  "kernelspec": {
   "display_name": "Python 3",
   "language": "python",
   "name": "python3"
  },
  "language_info": {
   "codemirror_mode": {
    "name": "ipython",
    "version": 3
   },
   "file_extension": ".py",
   "mimetype": "text/x-python",
   "name": "python",
   "nbconvert_exporter": "python",
   "pygments_lexer": "ipython3",
   "version": "3.7.6"
  }
 },
 "nbformat": 4,
 "nbformat_minor": 4
}
